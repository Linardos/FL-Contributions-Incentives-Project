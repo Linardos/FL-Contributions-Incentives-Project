{
 "cells": [
  {
   "cell_type": "markdown",
   "id": "407e96c3-23ba-4959-a600-c3b0492751a9",
   "metadata": {},
   "source": [
    "https://github.com/Project-MONAI/tutorials/blob/main/3d_segmentation/brats_segmentation_3d.ipynb"
   ]
  },
  {
   "cell_type": "code",
   "execution_count": 1,
   "id": "dc50d7e6-35e1-452d-9cf8-9647e2715952",
   "metadata": {},
   "outputs": [
    {
     "name": "stderr",
     "output_type": "stream",
     "text": [
      "\u001b[0;93m2025-10-24 12:19:36.263256874 [W:onnxruntime:Default, device_discovery.cc:164 DiscoverDevicesForPlatform] GPU device discovery failed: device_discovery.cc:89 ReadFileContents Failed to open file: \"/sys/class/drm/card0/device/vendor\"\u001b[m\n"
     ]
    },
    {
     "name": "stdout",
     "output_type": "stream",
     "text": [
      "MONAI version: 1.6.dev2542\n",
      "Numpy version: 2.1.2\n",
      "Pytorch version: 2.8.0+cu126\n",
      "MONAI flags: HAS_EXT = False, USE_COMPILED = False, USE_META_DICT = False\n",
      "MONAI rev id: 612f3dd3cba4d73cfcea4b5329079e20aa31523d\n",
      "MONAI __file__: /home/<username>/miniconda3/envs/m_quant_py310/lib/python3.10/site-packages/monai/__init__.py\n",
      "\n",
      "Optional dependencies:\n",
      "Pytorch Ignite version: NOT INSTALLED or UNKNOWN VERSION.\n",
      "ITK version: 5.4.4\n",
      "Nibabel version: 5.3.2\n",
      "scikit-image version: 0.25.2\n",
      "scipy version: 1.15.3\n",
      "Pillow version: 11.0.0\n",
      "Tensorboard version: NOT INSTALLED or UNKNOWN VERSION.\n",
      "gdown version: NOT INSTALLED or UNKNOWN VERSION.\n",
      "TorchVision version: 0.23.0+cu126\n",
      "tqdm version: 4.67.1\n",
      "lmdb version: NOT INSTALLED or UNKNOWN VERSION.\n",
      "psutil version: 7.0.0\n",
      "pandas version: 2.3.2\n",
      "einops version: 0.8.1\n",
      "transformers version: NOT INSTALLED or UNKNOWN VERSION.\n",
      "mlflow version: NOT INSTALLED or UNKNOWN VERSION.\n",
      "pynrrd version: NOT INSTALLED or UNKNOWN VERSION.\n",
      "clearml version: NOT INSTALLED or UNKNOWN VERSION.\n",
      "\n",
      "For details about installing the optional dependencies, please visit:\n",
      "    https://docs.monai.io/en/latest/installation.html#installing-the-recommended-dependencies\n",
      "\n"
     ]
    }
   ],
   "source": [
    "import os\n",
    "import shutil\n",
    "import tempfile\n",
    "import time\n",
    "import matplotlib.pyplot as plt\n",
    "from monai.apps import DecathlonDataset\n",
    "from monai.config import print_config\n",
    "from monai.data import DataLoader, decollate_batch\n",
    "from monai.handlers.utils import from_engine\n",
    "from monai.losses import DiceLoss\n",
    "from monai.inferers import sliding_window_inference\n",
    "from monai.metrics import DiceMetric\n",
    "from monai.networks.nets import SegResNet\n",
    "from monai.transforms import (\n",
    "    Activations,\n",
    "    Activationsd,\n",
    "    AsDiscrete,\n",
    "    AsDiscreted,\n",
    "    Compose,\n",
    "    Invertd,\n",
    "    LoadImaged,\n",
    "    MapTransform,\n",
    "    NormalizeIntensityd,\n",
    "    Orientationd,\n",
    "    RandFlipd,\n",
    "    RandScaleIntensityd,\n",
    "    RandShiftIntensityd,\n",
    "    RandSpatialCropd,\n",
    "    Spacingd,\n",
    "    EnsureTyped,\n",
    "    EnsureChannelFirstd,\n",
    ")\n",
    "from monai.utils import set_determinism\n",
    "import onnxruntime\n",
    "from tqdm import tqdm\n",
    "\n",
    "import torch\n",
    "\n",
    "print_config()\n",
    "set_determinism(seed=0)"
   ]
  },
  {
   "cell_type": "code",
   "execution_count": 25,
   "id": "6207d9e8-9830-4d0d-9198-e4a905daed01",
   "metadata": {},
   "outputs": [
    {
     "name": "stdout",
     "output_type": "stream",
     "text": [
      "./seg_ckpts\n"
     ]
    }
   ],
   "source": [
    "directory = \"./seg_ckpts\"\n",
    "if directory is not None:\n",
    "    os.makedirs(directory, exist_ok=True)\n",
    "root_dir = tempfile.mkdtemp() if directory is None else directory\n",
    "print(root_dir)"
   ]
  },
  {
   "cell_type": "markdown",
   "id": "a393e5c5-1a6b-441b-a424-891dbfce31be",
   "metadata": {},
   "source": [
    "# Transforms/Preprocessing taken as is from MONAI"
   ]
  },
  {
   "cell_type": "code",
   "execution_count": 3,
   "id": "e54eddc6-f30e-4b2d-b092-8fad6bc3096d",
   "metadata": {},
   "outputs": [
    {
     "name": "stderr",
     "output_type": "stream",
     "text": [
      "monai.transforms.spatial.dictionary Orientationd.__init__:labels: Current default value of argument `labels=(('L', 'R'), ('P', 'A'), ('I', 'S'))` was changed in version None from `labels=(('L', 'R'), ('P', 'A'), ('I', 'S'))` to `labels=None`. Default value changed to None meaning that the transform now uses the 'space' of a meta-tensor, if applicable, to determine appropriate axis labels.\n"
     ]
    }
   ],
   "source": [
    "class ConvertToMultiChannelBasedOnBratsClassesd(MapTransform):\n",
    "    \"\"\"\n",
    "    Convert labels to multi channels based on brats classes:\n",
    "    label 1 is the peritumoral edema\n",
    "    label 2 is the GD-enhancing tumor\n",
    "    label 3 is the necrotic and non-enhancing tumor core\n",
    "    The possible classes are TC (Tumor core), WT (Whole tumor)\n",
    "    and ET (Enhancing tumor).\n",
    "\n",
    "    \"\"\"\n",
    "\n",
    "    def __call__(self, data):\n",
    "        d = dict(data)\n",
    "        for key in self.keys:\n",
    "            result = []\n",
    "            # merge label 2 and label 3 to construct TC\n",
    "            result.append(torch.logical_or(d[key] == 2, d[key] == 3))\n",
    "            # merge labels 1, 2 and 3 to construct WT\n",
    "            result.append(torch.logical_or(torch.logical_or(d[key] == 2, d[key] == 3), d[key] == 1))\n",
    "            # label 2 is ET\n",
    "            result.append(d[key] == 2)\n",
    "            d[key] = torch.stack(result, axis=0).float()\n",
    "        return d\n",
    "\n",
    "train_transform = Compose(\n",
    "    [\n",
    "        # load 4 Nifti images and stack them together\n",
    "        LoadImaged(keys=[\"image\", \"label\"]),\n",
    "        EnsureChannelFirstd(keys=\"image\"),\n",
    "        EnsureTyped(keys=[\"image\", \"label\"]),\n",
    "        ConvertToMultiChannelBasedOnBratsClassesd(keys=\"label\"),\n",
    "        Orientationd(keys=[\"image\", \"label\"], axcodes=\"RAS\"),\n",
    "        Spacingd(\n",
    "            keys=[\"image\", \"label\"],\n",
    "            pixdim=(1.0, 1.0, 1.0),\n",
    "            mode=(\"bilinear\", \"nearest\"),\n",
    "        ),\n",
    "        RandSpatialCropd(keys=[\"image\", \"label\"], roi_size=[224, 224, 144], random_size=False),\n",
    "        RandFlipd(keys=[\"image\", \"label\"], prob=0.5, spatial_axis=0),\n",
    "        RandFlipd(keys=[\"image\", \"label\"], prob=0.5, spatial_axis=1),\n",
    "        RandFlipd(keys=[\"image\", \"label\"], prob=0.5, spatial_axis=2),\n",
    "        NormalizeIntensityd(keys=\"image\", nonzero=True, channel_wise=True),\n",
    "        RandScaleIntensityd(keys=\"image\", factors=0.1, prob=1.0),\n",
    "        RandShiftIntensityd(keys=\"image\", offsets=0.1, prob=1.0),\n",
    "    ]\n",
    ")\n",
    "val_transform = Compose(\n",
    "    [\n",
    "        LoadImaged(keys=[\"image\", \"label\"]),\n",
    "        EnsureChannelFirstd(keys=\"image\"),\n",
    "        EnsureTyped(keys=[\"image\", \"label\"]),\n",
    "        ConvertToMultiChannelBasedOnBratsClassesd(keys=\"label\"),\n",
    "        Orientationd(keys=[\"image\", \"label\"], axcodes=\"RAS\"),\n",
    "        Spacingd(\n",
    "            keys=[\"image\", \"label\"],\n",
    "            pixdim=(1.0, 1.0, 1.0),\n",
    "            mode=(\"bilinear\", \"nearest\"),\n",
    "        ),\n",
    "        NormalizeIntensityd(keys=\"image\", nonzero=True, channel_wise=True),\n",
    "    ]\n",
    ")"
   ]
  },
  {
   "cell_type": "markdown",
   "id": "3220cde2-ff64-4bad-abec-63db1231f19f",
   "metadata": {},
   "source": [
    "# Load the data in a federated manner ready for the Data Valuation pipeline"
   ]
  },
  {
   "cell_type": "code",
   "execution_count": 15,
   "id": "f91cdedc-d346-4829-a551-c73b1042f24f",
   "metadata": {},
   "outputs": [
    {
     "name": "stderr",
     "output_type": "stream",
     "text": [
      "Loading dataset: 100%|████████████████████████████████████████████████████████████████| 102/102 [03:18<00:00,  1.95s/it]\n",
      "Loading dataset: 100%|████████████████████████████████████████████████████████████████████| 1/1 [00:02<00:00,  2.01s/it]\n",
      "Loading dataset: 100%|████████████████████████████████████████████████████████████████████| 3/3 [00:05<00:00,  1.86s/it]\n",
      "Loading dataset: 100%|██████████████████████████████████████████████████████████████████| 47/47 [02:48<00:00,  3.59s/it]"
     ]
    },
    {
     "name": "stdout",
     "output_type": "stream",
     "text": [
      "train per-centre sizes: {1: 102, 2: 1, 3: 3}\n",
      "validation size: 47\n"
     ]
    },
    {
     "name": "stderr",
     "output_type": "stream",
     "text": [
      "\n"
     ]
    }
   ],
   "source": [
    "# MINE!!\n",
    "\n",
    "import os, copy, time, random, torch, numpy as np                                 \n",
    "import glob\n",
    "from tqdm import tqdm\n",
    "import pandas as pd\n",
    "from torch.utils.data import DataLoader\n",
    "from monai.data import CacheDataset\n",
    "import glob, nibabel as nib, pandas as pd\n",
    "from monai.data import CacheDataset, DataLoader\n",
    "from monai.transforms import (\n",
    "    LoadImaged, EnsureChannelFirstd, Orientationd, ScaleIntensityd,\n",
    "    RandFlipd, RandSpatialCropd, Compose, SelectItemsd\n",
    ")\n",
    "\n",
    "from utils import *\n",
    "  \n",
    "device = torch.device(\"cuda:0\" if torch.cuda.is_available() else \"cpu\")\n",
    "# -----------------------------------------------------------\n",
    "# 0. paths & meta-data (unchanged) ---------------------------\n",
    "# -----------------------------------------------------------\n",
    "BRATS_DIR = \"/mnt/d/Datasets/FETS_data/MICCAI_FeTS2022_TrainingData\"\n",
    "CSV_PATH  = f\"{BRATS_DIR}/partitioning_1.csv\"\n",
    "MODALITIES = [\"flair\", \"t1\", \"t1ce\", \"t2\"]\n",
    "LABEL_KEY  = \"seg\"\n",
    "\n",
    "# -----------------------------------------------------------\n",
    "# 1. read partition file  ➜  { id : [subjects] } ------------\n",
    "# -----------------------------------------------------------\n",
    "part_df       = pd.read_csv(CSV_PATH)\n",
    "partition_map = (\n",
    "    part_df.groupby(\"Partition_ID\")[\"Subject_ID\"]\n",
    "           .apply(list).to_dict()\n",
    ")                               # keys are 1 … 23\n",
    "\n",
    "VAL_CENTRES = {21, 22, 23}          # ← our hold-out set\n",
    "# VAL_CENTRES = {22, 23}          # ← our sanity set\n",
    "\n",
    "# split once, reuse everywhere\n",
    "train_partitions = {cid: sids for cid, sids in partition_map.items()\n",
    "                    if cid not in VAL_CENTRES}\n",
    "val_subjects     = sum((partition_map[cid] for cid in VAL_CENTRES), [])\n",
    "\n",
    "# -----------------------------------------------------------\n",
    "# 2. helper to build MONAI-style record dicts ----------------\n",
    "# -----------------------------------------------------------\n",
    "\n",
    "def build_records(subject_ids):\n",
    "    recs = []\n",
    "    for sid in subject_ids:\n",
    "        sdir = f\"{BRATS_DIR}/{sid}\"\n",
    "        images = [f\"{sdir}/{sid}_{m}.nii.gz\" for m in MODALITIES]  # 4 modalities\n",
    "        recs.append({\"image\": images, \"label\": f\"{sdir}/{sid}_{LABEL_KEY}.nii.gz\"})\n",
    "    return recs\n",
    "\n",
    "\n",
    "# -----------------------------------------------------------\n",
    "# 3. MONAI CacheDatasets ------------------------------------\n",
    "# -----------------------------------------------------------\n",
    "# ── client-wise training sets ───────────────────────────────\n",
    "CUT_OFF, FRAC, SEED = 3, 0.2, 42\n",
    "rng = random.Random(SEED)\n",
    "\n",
    "train_datasets = {}\n",
    "for cid, subj_ids in train_partitions.items():\n",
    "    if cid > CUT_OFF:                                    # keep your cap\n",
    "        break\n",
    "    k = max(1, int(len(subj_ids) * FRAC))                # e.g. 30 %\n",
    "    sample_ids = rng.sample(subj_ids, k)\n",
    "    train_datasets[cid] = CacheDataset(\n",
    "        build_records(sample_ids), transform=train_transform, cache_rate=1\n",
    "    )\n",
    "\n",
    "# ── single validation dataset made from *all* val subjects ─\n",
    "val_dataset = CacheDataset(\n",
    "    build_records(val_subjects), transform=val_transform, cache_rate=1\n",
    ")\n",
    "\n",
    "print(\"train per-centre sizes:\", {k: len(v) for k, v in train_datasets.items()})\n",
    "print(\"validation size:\", len(test_dataset))\n"
   ]
  },
  {
   "cell_type": "markdown",
   "id": "8c5e71cf-50c6-4bf1-96a7-97f8ef6f79f1",
   "metadata": {},
   "source": [
    "# Create Model, Loss, Optimizer (as is from MONAI tutorial)\n"
   ]
  },
  {
   "cell_type": "code",
   "execution_count": 17,
   "id": "ee0da8ff-38db-4a47-a77b-0558301d37ee",
   "metadata": {},
   "outputs": [],
   "source": [
    "max_epochs = 300\n",
    "val_interval = 1\n",
    "VAL_AMP = True\n",
    "\n",
    "# standard PyTorch program style: create SegResNet, DiceLoss and Adam optimizer\n",
    "device = torch.device(\"cuda:0\")\n",
    "global_model = SegResNet(\n",
    "    blocks_down=[1, 2, 2, 4],\n",
    "    blocks_up=[1, 1, 1],\n",
    "    init_filters=16,\n",
    "    in_channels=4,\n",
    "    out_channels=3,\n",
    "    dropout_prob=0.2,\n",
    ").to(device)\n",
    "loss_function = DiceLoss(smooth_nr=0, smooth_dr=1e-5, squared_pred=True, to_onehot_y=False, sigmoid=True)\n",
    "optimizer = torch.optim.Adam(global_model.parameters(), 1e-4, weight_decay=1e-5)\n",
    "lr_scheduler = torch.optim.lr_scheduler.CosineAnnealingLR(optimizer, T_max=max_epochs)\n",
    "\n",
    "dice_metric = DiceMetric(include_background=True, reduction=\"mean\")\n",
    "dice_metric_batch = DiceMetric(include_background=True, reduction=\"mean_batch\")\n",
    "\n",
    "post_trans = Compose([Activations(sigmoid=True), AsDiscrete(threshold=0.5)])\n",
    "\n",
    "\n",
    "# define inference method\n",
    "def inference(input):\n",
    "    def _compute(input):\n",
    "        return sliding_window_inference(\n",
    "            inputs=input,\n",
    "            roi_size=(240, 240, 160),\n",
    "            sw_batch_size=1,\n",
    "            predictor=global_model,\n",
    "            overlap=0.5,\n",
    "        )\n",
    "\n",
    "    if VAL_AMP:\n",
    "        with torch.autocast(\"cuda\"):\n",
    "            return _compute(input)\n",
    "    else:\n",
    "        return _compute(input)\n",
    "\n",
    "\n",
    "# use amp to accelerate training\n",
    "scaler = torch.GradScaler(\"cuda\")\n",
    "# enable cuDNN benchmark\n",
    "torch.backends.cudnn.benchmark = True"
   ]
  },
  {
   "cell_type": "markdown",
   "id": "34ae7765-94e1-4f8f-8bc2-c5463d5cc041",
   "metadata": {},
   "source": [
    "# Evaluation function"
   ]
  },
  {
   "cell_type": "code",
   "execution_count": 19,
   "id": "237ce6c9-54d4-4b1b-9234-27cb18e1f6b9",
   "metadata": {},
   "outputs": [
    {
     "name": "stderr",
     "output_type": "stream",
     "text": [
      "Evaluating: 100%|███████████████████████████████████████████████████████████████████████| 47/47 [00:24<00:00,  1.92it/s]"
     ]
    },
    {
     "name": "stdout",
     "output_type": "stream",
     "text": [
      "Dice before any training: (0.015499441884458065, 0.022785522043704987, 0.0017377998447045684, 0.02197500318288803)\n"
     ]
    },
    {
     "name": "stderr",
     "output_type": "stream",
     "text": [
      "\n"
     ]
    }
   ],
   "source": [
    "def evaluate_model(model, dataset, device, batch_size=1):\n",
    "    loader = DataLoader(dataset, batch_size=batch_size, shuffle=False, num_workers=4, pin_memory=True)\n",
    "    dice_metric.reset()\n",
    "    model.eval()\n",
    "    with torch.no_grad():\n",
    "        for batch in tqdm(loader, desc=\"Evaluating\"):\n",
    "            inputs = batch[\"image\"].to(device)\n",
    "            labels = batch[\"label\"].to(device)          # already multi-channel (WT/TC/ET) floats\n",
    "\n",
    "            # sliding-window inference (your helper)\n",
    "            logits = inference(inputs)                  # [B, 3, D, H, W]\n",
    "\n",
    "            # tensor-wise post-processing (no decollate, no meta juggling)\n",
    "            preds = torch.sigmoid(logits)\n",
    "            preds = (preds > 0.5).float()\n",
    "\n",
    "            # accumulate Dice on tensors directly\n",
    "            dice_metric(y_pred=preds, y=labels)\n",
    "            dice_metric_batch(y_pred=preds, y=labels)\n",
    "\n",
    "    mean_dice = dice_metric.aggregate().item()\n",
    "    metric_batch = dice_metric_batch.aggregate()\n",
    "    metric_tc = metric_batch[0].item()\n",
    "    metric_wt = metric_batch[1].item()\n",
    "    metric_et = metric_batch[2].item()\n",
    "    dice_metric.reset()\n",
    "    dice_metric_batch.reset()\n",
    "    \n",
    "    return mean_dice, metric_tc, metric_wt, metric_et\n",
    "    \n",
    "print(\"Dice before any training:\", evaluate_model(global_model, test_dataset, device)) # quick sanity check\n"
   ]
  },
  {
   "cell_type": "markdown",
   "id": "e7bdb623-69ae-42ff-bf8a-cb885b284ab6",
   "metadata": {},
   "source": [
    "# Train federated"
   ]
  },
  {
   "cell_type": "code",
   "execution_count": null,
   "id": "64ba799f-6113-4b46-b9d6-f85d5b40e5ef",
   "metadata": {},
   "outputs": [
    {
     "data": {
      "application/vnd.jupyter.widget-view+json": {
       "model_id": "2cc0052574fc433797066fc4de7430d8",
       "version_major": 2,
       "version_minor": 0
      },
      "text/plain": [
       "Evaluating:   0%|          | 0/47 [00:00<?, ?it/s]"
      ]
     },
     "metadata": {},
     "output_type": "display_data"
    },
    {
     "name": "stdout",
     "output_type": "stream",
     "text": [
      "Dice before any training: (0.2995908558368683, 0.3623102605342865, 0.03415071591734886, 0.4463581442832947)\n"
     ]
    },
    {
     "data": {
      "application/vnd.jupyter.widget-view+json": {
       "model_id": "71b1d4a7c4e24f4ca480d50bb20a1483",
       "version_major": 2,
       "version_minor": 0
      },
      "text/plain": [
       "Global rounds:   0%|                                                                             | 0/50 [00:00…"
      ]
     },
     "metadata": {},
     "output_type": "display_data"
    },
    {
     "data": {
      "application/vnd.jupyter.widget-view+json": {
       "model_id": "12f4ececb49d417cb2f648fdcd34699a",
       "version_major": 2,
       "version_minor": 0
      },
      "text/plain": [
       " clients:   0%|                                                                                   | 0/3 [00:00…"
      ]
     },
     "metadata": {},
     "output_type": "display_data"
    }
   ],
   "source": [
    "from tqdm.auto import tqdm, trange   # trange == tqdm(range())\n",
    "from collections import OrderedDict\n",
    "\n",
    "def average_weights(state_dicts, fractions):\n",
    "    \"\"\"\n",
    "    Federated averaging with client fractions (must sum to 1).\n",
    "    state_dicts: list of state_dicts (same keys)\n",
    "    fractions:   list of floats, same length, sum≈1\n",
    "    \"\"\"\n",
    "    avg_sd = OrderedDict()\n",
    "    for k in state_dicts[0].keys():\n",
    "        avg = 0.0\n",
    "        for sd, w in zip(state_dicts, fractions):\n",
    "            avg += sd[k] * w\n",
    "        avg_sd[k] = avg\n",
    "    return avg_sd\n",
    "\n",
    "# ────────────────────────────────────────────────────────────\n",
    "# 1. one-client update (returns weights + mean loss)          │\n",
    "# ────────────────────────────────────────────────────────────\n",
    "def local_train(model, loader, device, lr=1e-4, epochs=1):\n",
    "    \"\"\"\n",
    "    Train a local copy of the global model on one client's DataLoader.\n",
    "    Uses your DiceLoss (multi-label, sigmoid) and full crops from transforms.\n",
    "    \"\"\"\n",
    "    model = copy.deepcopy(model).to(device)\n",
    "    model.train()\n",
    "\n",
    "    # reuse your loss choice; or inline DiceLoss the same way\n",
    "    crit = DiceLoss(smooth_nr=0, smooth_dr=1e-5, squared_pred=True,\n",
    "                    to_onehot_y=False, sigmoid=True).to(device)\n",
    "\n",
    "    opt = torch.optim.Adam(model.parameters(), lr=lr)\n",
    "    epoch_losses = []\n",
    "\n",
    "    for _ in range(epochs):\n",
    "        running = 0.0\n",
    "        for batch in loader:\n",
    "            img = batch[\"image\"].to(device)   # [B, 4, D, H, W]\n",
    "            msk = batch[\"label\"].to(device)   # [B, 3, D, H, W]\n",
    "\n",
    "            opt.zero_grad(set_to_none=True)\n",
    "            logits = model(img)               # [B, 3, D, H, W]\n",
    "            loss = crit(logits, msk)\n",
    "            loss.backward()\n",
    "            opt.step()\n",
    "\n",
    "            running += float(loss.item())\n",
    "        epoch_losses.append(running / max(1, len(loader)))\n",
    "\n",
    "    return model.state_dict(), float(np.mean(epoch_losses))\n",
    "\n",
    "\n",
    "# ────────────────────────────────────────────────────────────\n",
    "# 2. FedAvg training loop (simple tqdm + clean prints)        │\n",
    "# ────────────────────────────────────────────────────────────\n",
    "from tqdm.auto import tqdm, trange\n",
    "\n",
    "EPOCHS, LOCAL_EPOCHS, LR, BATCH = 50, 1, 1e-4, 1\n",
    "\n",
    "idxs_users = list(train_datasets.keys())\n",
    "sizes      = {k: len(ds) for k, ds in train_datasets.items()}\n",
    "total_n    = sum(sizes.values())\n",
    "fractions  = [sizes[k] / total_n for k in idxs_users]\n",
    "\n",
    "print(\"Dice before any training:\", evaluate_model(global_model, test_dataset, device))\n",
    "\n",
    "best_metric = -1\n",
    "best_metric_round = -1\n",
    "best_metrics_rounds_and_time = [[], [], []]\n",
    "round_loss_values = []\n",
    "metric_values = []\n",
    "metric_values_tc = []\n",
    "metric_values_wt = []\n",
    "metric_values_et = []\n",
    "\n",
    "total_start = time.time()\n",
    "for rnd in trange(1, EPOCHS + 1, desc=\"Global rounds\", position=0, leave=True, dynamic_ncols=True):\n",
    "    local_weights, client_losses = [], []\n",
    "\n",
    "    # client bar (line 1)\n",
    "    for cid in tqdm(idxs_users, desc=\" clients\", position=1, leave=False, total=len(idxs_users), dynamic_ncols=True):\n",
    "        loader = DataLoader(train_datasets[cid], batch_size=BATCH, shuffle=True, num_workers=4, pin_memory=True)\n",
    "        w, loss = local_train(global_model, loader, device, lr=LR, epochs=LOCAL_EPOCHS)\n",
    "        local_weights.append(w); client_losses.append(loss)\n",
    "\n",
    "    global_model.load_state_dict(average_weights(local_weights, fractions))\n",
    "\n",
    "    # eval bar (line 2)\n",
    "    mean_dice, metric_tc, metric_wt, metric_et = evaluate_model(global_model, test_dataset, device)\n",
    "    \n",
    "    metric_values.append(mean_dice)\n",
    "    metric_values_tc.append(metric_tc)\n",
    "    metric_values_wt.append(metric_wt)\n",
    "    metric_values_et.append(metric_et)\n",
    "    \n",
    "    mean_loss = float(np.mean(client_losses))\n",
    "    round_loss_values.append(mean_loss)\n",
    "\n",
    "\n",
    "    if mean_dice > best_metric:\n",
    "        best_metric = mean_dice\n",
    "        best_metric_round = rnd + 1\n",
    "        best_metrics_rounds_and_time[0].append(best_metric)\n",
    "        best_metrics_rounds_and_time[1].append(best_metric_epoch)\n",
    "        best_metrics_rounds_and_time[2].append(time.time() - total_start)\n",
    "        torch.save(\n",
    "            global_model.state_dict(),\n",
    "            os.path.join(root_dir, \"best_metric_model.pth\"),\n",
    "        )\n",
    "        print(\"saved new best metric model\")\n",
    "    \n",
    "    tqdm.write(f\"Round {rnd:02d}:  mean-loss = {mean_loss:.4f}   mean-Dice = {mean_dice:.4f}    TC-Dice = {metric_tc:.4f}    TC-Dice = {metric_wt:.4f}    TC-Dice = {metric_tc:.4f}\")\n",
    "\n"
   ]
  },
  {
   "cell_type": "code",
   "execution_count": null,
   "id": "0ffd58c6-cc61-4b62-a8ff-5d85261a2fea",
   "metadata": {},
   "outputs": [],
   "source": [
    "plt.figure(\"train\", (12, 6))\n",
    "plt.subplot(1, 2, 1)\n",
    "plt.title(\"Federated Round Aggregate Loss\")\n",
    "x = [i + 1 for i in range(len(round_loss_values))]\n",
    "y = round_loss_values\n",
    "plt.xlabel(\"epoch\")\n",
    "plt.plot(x, y, color=\"red\")\n",
    "plt.subplot(1, 2, 2)\n",
    "plt.title(\"Val Mean Dice\")\n",
    "x = [val_interval * (i + 1) for i in range(len(metric_values))]\n",
    "y = metric_values\n",
    "plt.xlabel(\"epoch\")\n",
    "plt.plot(x, y, color=\"green\")\n",
    "plt.show()\n",
    "\n",
    "plt.figure(\"train\", (18, 6))\n",
    "plt.subplot(1, 3, 1)\n",
    "plt.title(\"Val Mean Dice TC\")\n",
    "x = [val_interval * (i + 1) for i in range(len(metric_values_tc))]\n",
    "y = metric_values_tc\n",
    "plt.xlabel(\"epoch\")\n",
    "plt.plot(x, y, color=\"blue\")\n",
    "plt.subplot(1, 3, 2)\n",
    "plt.title(\"Val Mean Dice WT\")\n",
    "x = [val_interval * (i + 1) for i in range(len(metric_values_wt))]\n",
    "y = metric_values_wt\n",
    "plt.xlabel(\"epoch\")\n",
    "plt.plot(x, y, color=\"brown\")\n",
    "plt.subplot(1, 3, 3)\n",
    "plt.title(\"Val Mean Dice ET\")\n",
    "x = [val_interval * (i + 1) for i in range(len(metric_values_et))]\n",
    "y = metric_values_et\n",
    "plt.xlabel(\"epoch\")\n",
    "plt.plot(x, y, color=\"purple\")\n",
    "plt.show()"
   ]
  },
  {
   "cell_type": "code",
   "execution_count": 8,
   "id": "416e14cc-f265-412a-a6ab-91a142c2f419",
   "metadata": {},
   "outputs": [
    {
     "data": {
      "application/vnd.jupyter.widget-view+json": {
       "model_id": "0d9b574a362346268a735d2a0db27d84",
       "version_major": 2,
       "version_minor": 0
      },
      "text/plain": [
       "Evaluating:   0%|          | 0/47 [00:00<?, ?it/s]"
      ]
     },
     "metadata": {},
     "output_type": "display_data"
    },
    {
     "name": "stdout",
     "output_type": "stream",
     "text": [
      "Dice before any training: 0.3333894908428192\n"
     ]
    },
    {
     "data": {
      "application/vnd.jupyter.widget-view+json": {
       "model_id": "da4a4b231b0744cfbef2f2f2f1c929c3",
       "version_major": 2,
       "version_minor": 0
      },
      "text/plain": [
       "Global rounds:   0%|                                                                             | 0/50 [00:00…"
      ]
     },
     "metadata": {},
     "output_type": "display_data"
    },
    {
     "data": {
      "application/vnd.jupyter.widget-view+json": {
       "model_id": "670b6f49b71149d0adaa8af5b526cceb",
       "version_major": 2,
       "version_minor": 0
      },
      "text/plain": [
       " clients:   0%|                                                                                   | 0/3 [00:00…"
      ]
     },
     "metadata": {},
     "output_type": "display_data"
    },
    {
     "data": {
      "application/vnd.jupyter.widget-view+json": {
       "model_id": "00922940f4634263a2376dc290b06148",
       "version_major": 2,
       "version_minor": 0
      },
      "text/plain": [
       "Evaluating:   0%|          | 0/47 [00:00<?, ?it/s]"
      ]
     },
     "metadata": {},
     "output_type": "display_data"
    },
    {
     "name": "stdout",
     "output_type": "stream",
     "text": [
      "Round 01:  mean-loss = 0.9034   mean-Dice = 0.3775\n"
     ]
    },
    {
     "data": {
      "application/vnd.jupyter.widget-view+json": {
       "model_id": "f1f31017c90e4baab1cc1ad817c93cf0",
       "version_major": 2,
       "version_minor": 0
      },
      "text/plain": [
       " clients:   0%|                                                                                   | 0/3 [00:00…"
      ]
     },
     "metadata": {},
     "output_type": "display_data"
    },
    {
     "data": {
      "application/vnd.jupyter.widget-view+json": {
       "model_id": "b2bd711a5c2441ac85198f3293fe3192",
       "version_major": 2,
       "version_minor": 0
      },
      "text/plain": [
       "Evaluating:   0%|          | 0/47 [00:00<?, ?it/s]"
      ]
     },
     "metadata": {},
     "output_type": "display_data"
    },
    {
     "name": "stdout",
     "output_type": "stream",
     "text": [
      "Round 02:  mean-loss = 0.8968   mean-Dice = 0.4515\n"
     ]
    },
    {
     "data": {
      "application/vnd.jupyter.widget-view+json": {
       "model_id": "eb6d196c92c84cff81f19887d2d2fce7",
       "version_major": 2,
       "version_minor": 0
      },
      "text/plain": [
       " clients:   0%|                                                                                   | 0/3 [00:00…"
      ]
     },
     "metadata": {},
     "output_type": "display_data"
    },
    {
     "name": "stderr",
     "output_type": "stream",
     "text": [
      "Exception ignored in: <function _MultiProcessingDataLoaderIter.__del__ at 0x7fb6ed313400>\n",
      "Traceback (most recent call last):\n",
      "  File \"/home/locolinux2/miniconda3/envs/m_quant_py310/lib/python3.10/site-packages/torch/utils/data/dataloader.py\", line 1664, in __del__\n",
      "    self._shutdown_workers()\n",
      "  File \"/home/locolinux2/miniconda3/envs/m_quant_py310/lib/python3.10/site-packages/torch/utils/data/dataloader.py\", line 1647, in _shutdown_workers\n",
      "    if w.is_alive():\n",
      "  File \"/home/locolinux2/miniconda3/envs/m_quant_py310/lib/python3.10/multiprocessing/process.py\", line 160, in is_alive\n",
      "    assert self._parent_pid == os.getpid(), 'can only test a child process'\n",
      "AssertionError: can only test a child process\n",
      "Exception ignored in: <function _MultiProcessingDataLoaderIter.__del__ at 0x7fb6ed313400>\n",
      "Traceback (most recent call last):\n",
      "  File \"/home/locolinux2/miniconda3/envs/m_quant_py310/lib/python3.10/site-packages/torch/utils/data/dataloader.py\", line 1664, in __del__\n",
      "    self._shutdown_workers()\n",
      "  File \"/home/locolinux2/miniconda3/envs/m_quant_py310/lib/python3.10/site-packages/torch/utils/data/dataloader.py\", line 1647, in _shutdown_workers\n",
      "    if w.is_alive():\n",
      "  File \"/home/locolinux2/miniconda3/envs/m_quant_py310/lib/python3.10/multiprocessing/process.py\", line 160, in is_alive\n",
      "    assert self._parent_pid == os.getpid(), 'can only test a child process'\n",
      "AssertionError: can only test a child process\n",
      "Exception ignored in: <function _MultiProcessingDataLoaderIter.__del__ at 0x7fb6ed313400>\n",
      "Traceback (most recent call last):\n",
      "  File \"/home/locolinux2/miniconda3/envs/m_quant_py310/lib/python3.10/site-packages/torch/utils/data/dataloader.py\", line 1664, in __del__\n",
      "    self._shutdown_workers()\n",
      "  File \"/home/locolinux2/miniconda3/envs/m_quant_py310/lib/python3.10/site-packages/torch/utils/data/dataloader.py\", line 1647, in _shutdown_workers\n",
      "    if w.is_alive():\n",
      "  File \"/home/locolinux2/miniconda3/envs/m_quant_py310/lib/python3.10/multiprocessing/process.py\", line 160, in is_alive\n",
      "    assert self._parent_pid == os.getpid(), 'can only test a child process'\n",
      "AssertionError: can only test a child process\n",
      "Exception ignored in: <function _MultiProcessingDataLoaderIter.__del__ at 0x7fb6ed313400>\n",
      "Traceback (most recent call last):\n",
      "  File \"/home/locolinux2/miniconda3/envs/m_quant_py310/lib/python3.10/site-packages/torch/utils/data/dataloader.py\", line 1664, in __del__\n",
      "    self._shutdown_workers()\n",
      "  File \"/home/locolinux2/miniconda3/envs/m_quant_py310/lib/python3.10/site-packages/torch/utils/data/dataloader.py\", line 1647, in _shutdown_workers\n",
      "    if w.is_alive():\n",
      "  File \"/home/locolinux2/miniconda3/envs/m_quant_py310/lib/python3.10/multiprocessing/process.py\", line 160, in is_alive\n",
      "    assert self._parent_pid == os.getpid(), 'can only test a child process'\n",
      "AssertionError: can only test a child process\n"
     ]
    },
    {
     "data": {
      "application/vnd.jupyter.widget-view+json": {
       "model_id": "b4ad16e01a834d568e21f5263419aa2d",
       "version_major": 2,
       "version_minor": 0
      },
      "text/plain": [
       "Evaluating:   0%|          | 0/47 [00:00<?, ?it/s]"
      ]
     },
     "metadata": {},
     "output_type": "display_data"
    },
    {
     "name": "stdout",
     "output_type": "stream",
     "text": [
      "Round 03:  mean-loss = 0.8932   mean-Dice = 0.4312\n"
     ]
    },
    {
     "data": {
      "application/vnd.jupyter.widget-view+json": {
       "model_id": "8e8d2461a9c047d2b5ace5388e225199",
       "version_major": 2,
       "version_minor": 0
      },
      "text/plain": [
       " clients:   0%|                                                                                   | 0/3 [00:00…"
      ]
     },
     "metadata": {},
     "output_type": "display_data"
    },
    {
     "data": {
      "application/vnd.jupyter.widget-view+json": {
       "model_id": "ee24ee3b2cc64123ab0a0fa73aeff683",
       "version_major": 2,
       "version_minor": 0
      },
      "text/plain": [
       "Evaluating:   0%|          | 0/47 [00:00<?, ?it/s]"
      ]
     },
     "metadata": {},
     "output_type": "display_data"
    },
    {
     "name": "stdout",
     "output_type": "stream",
     "text": [
      "Round 04:  mean-loss = 0.8910   mean-Dice = 0.5128\n"
     ]
    },
    {
     "data": {
      "application/vnd.jupyter.widget-view+json": {
       "model_id": "71587a51d0ff41de831a44c5c319a199",
       "version_major": 2,
       "version_minor": 0
      },
      "text/plain": [
       " clients:   0%|                                                                                   | 0/3 [00:00…"
      ]
     },
     "metadata": {},
     "output_type": "display_data"
    },
    {
     "name": "stderr",
     "output_type": "stream",
     "text": [
      "Exception ignored in: <function _MultiProcessingDataLoaderIter.__del__ at 0x7fb6ed313400>\n",
      "Traceback (most recent call last):\n",
      "  File \"/home/locolinux2/miniconda3/envs/m_quant_py310/lib/python3.10/site-packages/torch/utils/data/dataloader.py\", line 1664, in __del__\n",
      "    self._shutdown_workers()\n",
      "  File \"/home/locolinux2/miniconda3/envs/m_quant_py310/lib/python3.10/site-packages/torch/utils/data/dataloader.py\", line 1647, in _shutdown_workers\n",
      "    if w.is_alive():\n",
      "  File \"/home/locolinux2/miniconda3/envs/m_quant_py310/lib/python3.10/multiprocessing/process.py\", line 160, in is_alive\n",
      "    assert self._parent_pid == os.getpid(), 'can only test a child process'\n",
      "AssertionError: can only test a child process\n",
      "Exception ignored in: <function _MultiProcessingDataLoaderIter.__del__ at 0x7fb6ed313400>\n",
      "Traceback (most recent call last):\n",
      "  File \"/home/locolinux2/miniconda3/envs/m_quant_py310/lib/python3.10/site-packages/torch/utils/data/dataloader.py\", line 1664, in __del__\n",
      "    self._shutdown_workers()\n",
      "  File \"/home/locolinux2/miniconda3/envs/m_quant_py310/lib/python3.10/site-packages/torch/utils/data/dataloader.py\", line 1647, in _shutdown_workers\n",
      "    if w.is_alive():\n",
      "  File \"/home/locolinux2/miniconda3/envs/m_quant_py310/lib/python3.10/multiprocessing/process.py\", line 160, in is_alive\n",
      "    assert self._parent_pid == os.getpid(), 'can only test a child process'\n",
      "AssertionError: can only test a child process\n",
      "Exception ignored in: <function _MultiProcessingDataLoaderIter.__del__ at 0x7fb6ed313400>\n",
      "Traceback (most recent call last):\n",
      "  File \"/home/locolinux2/miniconda3/envs/m_quant_py310/lib/python3.10/site-packages/torch/utils/data/dataloader.py\", line 1664, in __del__\n",
      "    self._shutdown_workers()\n",
      "Exception ignored in:   File \"/home/locolinux2/miniconda3/envs/m_quant_py310/lib/python3.10/site-packages/torch/utils/data/dataloader.py\", line 1647, in _shutdown_workers\n",
      "<function _MultiProcessingDataLoaderIter.__del__ at 0x7fb6ed313400>    if w.is_alive():\n",
      "Traceback (most recent call last):\n",
      "\n",
      "  File \"/home/locolinux2/miniconda3/envs/m_quant_py310/lib/python3.10/site-packages/torch/utils/data/dataloader.py\", line 1664, in __del__\n",
      "  File \"/home/locolinux2/miniconda3/envs/m_quant_py310/lib/python3.10/multiprocessing/process.py\", line 160, in is_alive\n",
      "    self._shutdown_workers()    \n",
      "assert self._parent_pid == os.getpid(), 'can only test a child process'  File \"/home/locolinux2/miniconda3/envs/m_quant_py310/lib/python3.10/site-packages/torch/utils/data/dataloader.py\", line 1647, in _shutdown_workers\n",
      "\n",
      "    AssertionErrorif w.is_alive():\n",
      ":   File \"/home/locolinux2/miniconda3/envs/m_quant_py310/lib/python3.10/multiprocessing/process.py\", line 160, in is_alive\n",
      "can only test a child process    assert self._parent_pid == os.getpid(), 'can only test a child process'\n",
      "\n",
      "AssertionError: can only test a child process\n"
     ]
    },
    {
     "data": {
      "application/vnd.jupyter.widget-view+json": {
       "model_id": "f675e6bc5bec4d169b99bb332692904d",
       "version_major": 2,
       "version_minor": 0
      },
      "text/plain": [
       "Evaluating:   0%|          | 0/47 [00:00<?, ?it/s]"
      ]
     },
     "metadata": {},
     "output_type": "display_data"
    },
    {
     "name": "stdout",
     "output_type": "stream",
     "text": [
      "Round 05:  mean-loss = 0.8807   mean-Dice = 0.4922\n"
     ]
    },
    {
     "data": {
      "application/vnd.jupyter.widget-view+json": {
       "model_id": "c8ef34b6c53c4559ac4f8883d791762c",
       "version_major": 2,
       "version_minor": 0
      },
      "text/plain": [
       " clients:   0%|                                                                                   | 0/3 [00:00…"
      ]
     },
     "metadata": {},
     "output_type": "display_data"
    },
    {
     "data": {
      "application/vnd.jupyter.widget-view+json": {
       "model_id": "a32049ad831d485bbf819746bd4df7cc",
       "version_major": 2,
       "version_minor": 0
      },
      "text/plain": [
       "Evaluating:   0%|          | 0/47 [00:00<?, ?it/s]"
      ]
     },
     "metadata": {},
     "output_type": "display_data"
    },
    {
     "name": "stdout",
     "output_type": "stream",
     "text": [
      "Round 06:  mean-loss = 0.8760   mean-Dice = 0.5016\n"
     ]
    },
    {
     "data": {
      "application/vnd.jupyter.widget-view+json": {
       "model_id": "4d91de12c8e94adca5f8258dcb4b9c63",
       "version_major": 2,
       "version_minor": 0
      },
      "text/plain": [
       " clients:   0%|                                                                                   | 0/3 [00:00…"
      ]
     },
     "metadata": {},
     "output_type": "display_data"
    },
    {
     "name": "stderr",
     "output_type": "stream",
     "text": [
      "Exception ignored in: <function _MultiProcessingDataLoaderIter.__del__ at 0x7fb6ed313400>\n",
      "Traceback (most recent call last):\n",
      "  File \"/home/locolinux2/miniconda3/envs/m_quant_py310/lib/python3.10/site-packages/torch/utils/data/dataloader.py\", line 1664, in __del__\n",
      "    self._shutdown_workers()\n",
      "  File \"/home/locolinux2/miniconda3/envs/m_quant_py310/lib/python3.10/site-packages/torch/utils/data/dataloader.py\", line 1647, in _shutdown_workers\n",
      "    if w.is_alive():\n",
      "  File \"/home/locolinux2/miniconda3/envs/m_quant_py310/lib/python3.10/multiprocessing/process.py\", line 160, in is_alive\n",
      "    assert self._parent_pid == os.getpid(), 'can only test a child process'\n",
      "AssertionError: can only test a child process\n",
      "Exception ignored in: <function _MultiProcessingDataLoaderIter.__del__ at 0x7fb6ed313400>\n",
      "Traceback (most recent call last):\n",
      "  File \"/home/locolinux2/miniconda3/envs/m_quant_py310/lib/python3.10/site-packages/torch/utils/data/dataloader.py\", line 1664, in __del__\n",
      "    self._shutdown_workers()\n",
      "  File \"/home/locolinux2/miniconda3/envs/m_quant_py310/lib/python3.10/site-packages/torch/utils/data/dataloader.py\", line 1647, in _shutdown_workers\n",
      "    if w.is_alive():\n",
      "  File \"/home/locolinux2/miniconda3/envs/m_quant_py310/lib/python3.10/multiprocessing/process.py\", line 160, in is_alive\n",
      "    assert self._parent_pid == os.getpid(), 'can only test a child process'\n",
      "AssertionError: can only test a child process\n",
      "Exception ignored in: <function _MultiProcessingDataLoaderIter.__del__ at 0x7fb6ed313400>\n",
      "Traceback (most recent call last):\n",
      "  File \"/home/locolinux2/miniconda3/envs/m_quant_py310/lib/python3.10/site-packages/torch/utils/data/dataloader.py\", line 1664, in __del__\n",
      "    self._shutdown_workers()\n",
      "  File \"/home/locolinux2/miniconda3/envs/m_quant_py310/lib/python3.10/site-packages/torch/utils/data/dataloader.py\", line 1647, in _shutdown_workers\n",
      "    if w.is_alive():\n",
      "  File \"/home/locolinux2/miniconda3/envs/m_quant_py310/lib/python3.10/multiprocessing/process.py\", line 160, in is_alive\n",
      "    assert self._parent_pid == os.getpid(), 'can only test a child process'\n",
      "AssertionError: can only test a child process\n",
      "Exception ignored in: <function _MultiProcessingDataLoaderIter.__del__ at 0x7fb6ed313400>\n",
      "Traceback (most recent call last):\n",
      "  File \"/home/locolinux2/miniconda3/envs/m_quant_py310/lib/python3.10/site-packages/torch/utils/data/dataloader.py\", line 1664, in __del__\n",
      "    self._shutdown_workers()\n",
      "  File \"/home/locolinux2/miniconda3/envs/m_quant_py310/lib/python3.10/site-packages/torch/utils/data/dataloader.py\", line 1647, in _shutdown_workers\n",
      "    if w.is_alive():\n",
      "  File \"/home/locolinux2/miniconda3/envs/m_quant_py310/lib/python3.10/multiprocessing/process.py\", line 160, in is_alive\n",
      "    assert self._parent_pid == os.getpid(), 'can only test a child process'\n",
      "AssertionError: can only test a child process\n"
     ]
    },
    {
     "data": {
      "application/vnd.jupyter.widget-view+json": {
       "model_id": "0082dc29f4b94083a22bc56730e16065",
       "version_major": 2,
       "version_minor": 0
      },
      "text/plain": [
       "Evaluating:   0%|          | 0/47 [00:00<?, ?it/s]"
      ]
     },
     "metadata": {},
     "output_type": "display_data"
    },
    {
     "name": "stdout",
     "output_type": "stream",
     "text": [
      "Round 07:  mean-loss = 0.8719   mean-Dice = 0.5437\n"
     ]
    },
    {
     "data": {
      "application/vnd.jupyter.widget-view+json": {
       "model_id": "20877defe6f449648748077c8f08eae8",
       "version_major": 2,
       "version_minor": 0
      },
      "text/plain": [
       " clients:   0%|                                                                                   | 0/3 [00:00…"
      ]
     },
     "metadata": {},
     "output_type": "display_data"
    },
    {
     "data": {
      "application/vnd.jupyter.widget-view+json": {
       "model_id": "ef177d241ad94defb7ceb7ab9b858ebe",
       "version_major": 2,
       "version_minor": 0
      },
      "text/plain": [
       "Evaluating:   0%|          | 0/47 [00:00<?, ?it/s]"
      ]
     },
     "metadata": {},
     "output_type": "display_data"
    },
    {
     "name": "stdout",
     "output_type": "stream",
     "text": [
      "Round 08:  mean-loss = 0.8654   mean-Dice = 0.5649\n"
     ]
    },
    {
     "data": {
      "application/vnd.jupyter.widget-view+json": {
       "model_id": "5c611cafebcf4a8e89ac3225034ccee7",
       "version_major": 2,
       "version_minor": 0
      },
      "text/plain": [
       " clients:   0%|                                                                                   | 0/3 [00:00…"
      ]
     },
     "metadata": {},
     "output_type": "display_data"
    },
    {
     "name": "stderr",
     "output_type": "stream",
     "text": [
      "Exception ignored in: <function _MultiProcessingDataLoaderIter.__del__ at 0x7fb6ed313400>\n",
      "Traceback (most recent call last):\n",
      "  File \"/home/locolinux2/miniconda3/envs/m_quant_py310/lib/python3.10/site-packages/torch/utils/data/dataloader.py\", line 1664, in __del__\n",
      "    self._shutdown_workers()\n",
      "  File \"/home/locolinux2/miniconda3/envs/m_quant_py310/lib/python3.10/site-packages/torch/utils/data/dataloader.py\", line 1647, in _shutdown_workers\n",
      "    if w.is_alive():\n",
      "  File \"/home/locolinux2/miniconda3/envs/m_quant_py310/lib/python3.10/multiprocessing/process.py\", line 160, in is_alive\n",
      "    assert self._parent_pid == os.getpid(), 'can only test a child process'\n",
      "AssertionError: can only test a child process\n",
      "Exception ignored in: <function _MultiProcessingDataLoaderIter.__del__ at 0x7fb6ed313400>\n",
      "Traceback (most recent call last):\n",
      "  File \"/home/locolinux2/miniconda3/envs/m_quant_py310/lib/python3.10/site-packages/torch/utils/data/dataloader.py\", line 1664, in __del__\n",
      "    self._shutdown_workers()\n",
      "  File \"/home/locolinux2/miniconda3/envs/m_quant_py310/lib/python3.10/site-packages/torch/utils/data/dataloader.py\", line 1647, in _shutdown_workers\n",
      "    if w.is_alive():\n",
      "  File \"/home/locolinux2/miniconda3/envs/m_quant_py310/lib/python3.10/multiprocessing/process.py\", line 160, in is_alive\n",
      "    assert self._parent_pid == os.getpid(), 'can only test a child process'\n",
      "AssertionError: can only test a child process\n",
      "Exception ignored in: <function _MultiProcessingDataLoaderIter.__del__ at 0x7fb6ed313400>\n",
      "Traceback (most recent call last):\n",
      "  File \"/home/locolinux2/miniconda3/envs/m_quant_py310/lib/python3.10/site-packages/torch/utils/data/dataloader.py\", line 1664, in __del__\n",
      "Exception ignored in:     <function _MultiProcessingDataLoaderIter.__del__ at 0x7fb6ed313400>self._shutdown_workers()\n",
      "\n",
      "  File \"/home/locolinux2/miniconda3/envs/m_quant_py310/lib/python3.10/site-packages/torch/utils/data/dataloader.py\", line 1647, in _shutdown_workers\n",
      "Traceback (most recent call last):\n",
      "    if w.is_alive():  File \"/home/locolinux2/miniconda3/envs/m_quant_py310/lib/python3.10/site-packages/torch/utils/data/dataloader.py\", line 1664, in __del__\n",
      "\n",
      "  File \"/home/locolinux2/miniconda3/envs/m_quant_py310/lib/python3.10/multiprocessing/process.py\", line 160, in is_alive\n",
      "        self._shutdown_workers()assert self._parent_pid == os.getpid(), 'can only test a child process'\n",
      "\n",
      "AssertionError  File \"/home/locolinux2/miniconda3/envs/m_quant_py310/lib/python3.10/site-packages/torch/utils/data/dataloader.py\", line 1647, in _shutdown_workers\n",
      ": can only test a child process    \n",
      "if w.is_alive():\n",
      "  File \"/home/locolinux2/miniconda3/envs/m_quant_py310/lib/python3.10/multiprocessing/process.py\", line 160, in is_alive\n",
      "    assert self._parent_pid == os.getpid(), 'can only test a child process'\n",
      "AssertionError: can only test a child process\n"
     ]
    },
    {
     "data": {
      "application/vnd.jupyter.widget-view+json": {
       "model_id": "0d5953ed01604c57be9f882bdb9d9d85",
       "version_major": 2,
       "version_minor": 0
      },
      "text/plain": [
       "Evaluating:   0%|          | 0/47 [00:00<?, ?it/s]"
      ]
     },
     "metadata": {},
     "output_type": "display_data"
    },
    {
     "name": "stdout",
     "output_type": "stream",
     "text": [
      "Round 09:  mean-loss = 0.8586   mean-Dice = 0.5487\n"
     ]
    },
    {
     "data": {
      "application/vnd.jupyter.widget-view+json": {
       "model_id": "5bda2c6545c74b63b8e9e14585895aba",
       "version_major": 2,
       "version_minor": 0
      },
      "text/plain": [
       " clients:   0%|                                                                                   | 0/3 [00:00…"
      ]
     },
     "metadata": {},
     "output_type": "display_data"
    },
    {
     "data": {
      "application/vnd.jupyter.widget-view+json": {
       "model_id": "4247f546fef8476cb348442068560ee0",
       "version_major": 2,
       "version_minor": 0
      },
      "text/plain": [
       "Evaluating:   0%|          | 0/47 [00:00<?, ?it/s]"
      ]
     },
     "metadata": {},
     "output_type": "display_data"
    },
    {
     "name": "stdout",
     "output_type": "stream",
     "text": [
      "Round 10:  mean-loss = 0.8531   mean-Dice = 0.5218\n"
     ]
    },
    {
     "data": {
      "application/vnd.jupyter.widget-view+json": {
       "model_id": "88c2844f02724c7db01a8ffb1d4c3f6b",
       "version_major": 2,
       "version_minor": 0
      },
      "text/plain": [
       " clients:   0%|                                                                                   | 0/3 [00:00…"
      ]
     },
     "metadata": {},
     "output_type": "display_data"
    },
    {
     "name": "stderr",
     "output_type": "stream",
     "text": [
      "Exception ignored in: <function _MultiProcessingDataLoaderIter.__del__ at 0x7fb6ed313400>\n",
      "Traceback (most recent call last):\n",
      "  File \"/home/locolinux2/miniconda3/envs/m_quant_py310/lib/python3.10/site-packages/torch/utils/data/dataloader.py\", line 1664, in __del__\n",
      "    self._shutdown_workers()\n",
      "  File \"/home/locolinux2/miniconda3/envs/m_quant_py310/lib/python3.10/site-packages/torch/utils/data/dataloader.py\", line 1647, in _shutdown_workers\n",
      "    if w.is_alive():\n",
      "  File \"/home/locolinux2/miniconda3/envs/m_quant_py310/lib/python3.10/multiprocessing/process.py\", line 160, in is_alive\n",
      "    assert self._parent_pid == os.getpid(), 'can only test a child process'\n",
      "AssertionError: can only test a child process\n",
      "Exception ignored in: <function _MultiProcessingDataLoaderIter.__del__ at 0x7fb6ed313400>\n",
      "Traceback (most recent call last):\n",
      "  File \"/home/locolinux2/miniconda3/envs/m_quant_py310/lib/python3.10/site-packages/torch/utils/data/dataloader.py\", line 1664, in __del__\n",
      "    self._shutdown_workers()\n",
      "  File \"/home/locolinux2/miniconda3/envs/m_quant_py310/lib/python3.10/site-packages/torch/utils/data/dataloader.py\", line 1647, in _shutdown_workers\n",
      "    if w.is_alive():\n",
      "  File \"/home/locolinux2/miniconda3/envs/m_quant_py310/lib/python3.10/multiprocessing/process.py\", line 160, in is_alive\n",
      "    assert self._parent_pid == os.getpid(), 'can only test a child process'\n",
      "AssertionError: can only test a child process\n",
      "Exception ignored in: <function _MultiProcessingDataLoaderIter.__del__ at 0x7fb6ed313400>\n",
      "Traceback (most recent call last):\n",
      "  File \"/home/locolinux2/miniconda3/envs/m_quant_py310/lib/python3.10/site-packages/torch/utils/data/dataloader.py\", line 1664, in __del__\n",
      "    self._shutdown_workers()\n",
      "Exception ignored in:   File \"/home/locolinux2/miniconda3/envs/m_quant_py310/lib/python3.10/site-packages/torch/utils/data/dataloader.py\", line 1647, in _shutdown_workers\n",
      "<function _MultiProcessingDataLoaderIter.__del__ at 0x7fb6ed313400>    \n",
      "if w.is_alive():Traceback (most recent call last):\n",
      "\n",
      "  File \"/home/locolinux2/miniconda3/envs/m_quant_py310/lib/python3.10/site-packages/torch/utils/data/dataloader.py\", line 1664, in __del__\n",
      "  File \"/home/locolinux2/miniconda3/envs/m_quant_py310/lib/python3.10/multiprocessing/process.py\", line 160, in is_alive\n",
      "        self._shutdown_workers()assert self._parent_pid == os.getpid(), 'can only test a child process'\n",
      "\n",
      "  File \"/home/locolinux2/miniconda3/envs/m_quant_py310/lib/python3.10/site-packages/torch/utils/data/dataloader.py\", line 1647, in _shutdown_workers\n",
      "AssertionError    : if w.is_alive():can only test a child process\n",
      "\n",
      "  File \"/home/locolinux2/miniconda3/envs/m_quant_py310/lib/python3.10/multiprocessing/process.py\", line 160, in is_alive\n",
      "    assert self._parent_pid == os.getpid(), 'can only test a child process'\n",
      "AssertionError: can only test a child process\n"
     ]
    },
    {
     "data": {
      "application/vnd.jupyter.widget-view+json": {
       "model_id": "ebef8f7bcf0148399a40cd83125cba39",
       "version_major": 2,
       "version_minor": 0
      },
      "text/plain": [
       "Evaluating:   0%|          | 0/47 [00:00<?, ?it/s]"
      ]
     },
     "metadata": {},
     "output_type": "display_data"
    },
    {
     "name": "stdout",
     "output_type": "stream",
     "text": [
      "Round 11:  mean-loss = 0.8499   mean-Dice = 0.6257\n"
     ]
    },
    {
     "data": {
      "application/vnd.jupyter.widget-view+json": {
       "model_id": "d68598b6a9ac48eea6adb0f4b049a07c",
       "version_major": 2,
       "version_minor": 0
      },
      "text/plain": [
       " clients:   0%|                                                                                   | 0/3 [00:00…"
      ]
     },
     "metadata": {},
     "output_type": "display_data"
    },
    {
     "data": {
      "application/vnd.jupyter.widget-view+json": {
       "model_id": "c1b90610a8f44bfab464b5b0d998fa65",
       "version_major": 2,
       "version_minor": 0
      },
      "text/plain": [
       "Evaluating:   0%|          | 0/47 [00:00<?, ?it/s]"
      ]
     },
     "metadata": {},
     "output_type": "display_data"
    },
    {
     "name": "stdout",
     "output_type": "stream",
     "text": [
      "Round 12:  mean-loss = 0.8371   mean-Dice = 0.6337\n"
     ]
    },
    {
     "data": {
      "application/vnd.jupyter.widget-view+json": {
       "model_id": "e886c2c628dc468aa00cf587170a929e",
       "version_major": 2,
       "version_minor": 0
      },
      "text/plain": [
       " clients:   0%|                                                                                   | 0/3 [00:00…"
      ]
     },
     "metadata": {},
     "output_type": "display_data"
    },
    {
     "name": "stderr",
     "output_type": "stream",
     "text": [
      "Exception ignored in: <function _MultiProcessingDataLoaderIter.__del__ at 0x7fb6ed313400>\n",
      "Traceback (most recent call last):\n",
      "  File \"/home/locolinux2/miniconda3/envs/m_quant_py310/lib/python3.10/site-packages/torch/utils/data/dataloader.py\", line 1664, in __del__\n",
      "    self._shutdown_workers()\n",
      "  File \"/home/locolinux2/miniconda3/envs/m_quant_py310/lib/python3.10/site-packages/torch/utils/data/dataloader.py\", line 1647, in _shutdown_workers\n",
      "    if w.is_alive():\n",
      "  File \"/home/locolinux2/miniconda3/envs/m_quant_py310/lib/python3.10/multiprocessing/process.py\", line 160, in is_alive\n",
      "    assert self._parent_pid == os.getpid(), 'can only test a child process'\n",
      "AssertionError: can only test a child process\n",
      "Exception ignored in: <function _MultiProcessingDataLoaderIter.__del__ at 0x7fb6ed313400>\n",
      "Traceback (most recent call last):\n",
      "  File \"/home/locolinux2/miniconda3/envs/m_quant_py310/lib/python3.10/site-packages/torch/utils/data/dataloader.py\", line 1664, in __del__\n",
      "    self._shutdown_workers()\n",
      "  File \"/home/locolinux2/miniconda3/envs/m_quant_py310/lib/python3.10/site-packages/torch/utils/data/dataloader.py\", line 1647, in _shutdown_workers\n",
      "    if w.is_alive():\n",
      "  File \"/home/locolinux2/miniconda3/envs/m_quant_py310/lib/python3.10/multiprocessing/process.py\", line 160, in is_alive\n",
      "    assert self._parent_pid == os.getpid(), 'can only test a child process'\n",
      "AssertionError: can only test a child process\n",
      "Exception ignored in: <function _MultiProcessingDataLoaderIter.__del__ at 0x7fb6ed313400>\n",
      "Traceback (most recent call last):\n",
      "  File \"/home/locolinux2/miniconda3/envs/m_quant_py310/lib/python3.10/site-packages/torch/utils/data/dataloader.py\", line 1664, in __del__\n",
      "    self._shutdown_workers()\n",
      "  File \"/home/locolinux2/miniconda3/envs/m_quant_py310/lib/python3.10/site-packages/torch/utils/data/dataloader.py\", line 1647, in _shutdown_workers\n",
      "    if w.is_alive():\n",
      "  File \"/home/locolinux2/miniconda3/envs/m_quant_py310/lib/python3.10/multiprocessing/process.py\", line 160, in is_alive\n",
      "    assert self._parent_pid == os.getpid(), 'can only test a child process'\n",
      "AssertionError: can only test a child process\n",
      "Exception ignored in: <function _MultiProcessingDataLoaderIter.__del__ at 0x7fb6ed313400>\n",
      "Traceback (most recent call last):\n",
      "  File \"/home/locolinux2/miniconda3/envs/m_quant_py310/lib/python3.10/site-packages/torch/utils/data/dataloader.py\", line 1664, in __del__\n",
      "    self._shutdown_workers()\n",
      "  File \"/home/locolinux2/miniconda3/envs/m_quant_py310/lib/python3.10/site-packages/torch/utils/data/dataloader.py\", line 1647, in _shutdown_workers\n",
      "    if w.is_alive():\n",
      "  File \"/home/locolinux2/miniconda3/envs/m_quant_py310/lib/python3.10/multiprocessing/process.py\", line 160, in is_alive\n",
      "    assert self._parent_pid == os.getpid(), 'can only test a child process'\n",
      "AssertionError: can only test a child process\n"
     ]
    },
    {
     "data": {
      "application/vnd.jupyter.widget-view+json": {
       "model_id": "56ba05489fcb4a198707f6ca35507d7c",
       "version_major": 2,
       "version_minor": 0
      },
      "text/plain": [
       "Evaluating:   0%|          | 0/47 [00:00<?, ?it/s]"
      ]
     },
     "metadata": {},
     "output_type": "display_data"
    },
    {
     "name": "stdout",
     "output_type": "stream",
     "text": [
      "Round 13:  mean-loss = 0.8288   mean-Dice = 0.6693\n"
     ]
    },
    {
     "data": {
      "application/vnd.jupyter.widget-view+json": {
       "model_id": "66d42e74585f4f25abe1dd193ac19b3a",
       "version_major": 2,
       "version_minor": 0
      },
      "text/plain": [
       " clients:   0%|                                                                                   | 0/3 [00:00…"
      ]
     },
     "metadata": {},
     "output_type": "display_data"
    },
    {
     "data": {
      "application/vnd.jupyter.widget-view+json": {
       "model_id": "d21a06dc185944d6b3bf52092d279c60",
       "version_major": 2,
       "version_minor": 0
      },
      "text/plain": [
       "Evaluating:   0%|          | 0/47 [00:00<?, ?it/s]"
      ]
     },
     "metadata": {},
     "output_type": "display_data"
    },
    {
     "name": "stdout",
     "output_type": "stream",
     "text": [
      "Round 14:  mean-loss = 0.8226   mean-Dice = 0.6345\n"
     ]
    },
    {
     "data": {
      "application/vnd.jupyter.widget-view+json": {
       "model_id": "64e1e54c719042ef9c5126325a1afc44",
       "version_major": 2,
       "version_minor": 0
      },
      "text/plain": [
       " clients:   0%|                                                                                   | 0/3 [00:00…"
      ]
     },
     "metadata": {},
     "output_type": "display_data"
    },
    {
     "data": {
      "application/vnd.jupyter.widget-view+json": {
       "model_id": "7292dbcddfa242c5ba93c7b35a035f39",
       "version_major": 2,
       "version_minor": 0
      },
      "text/plain": [
       "Evaluating:   0%|          | 0/47 [00:00<?, ?it/s]"
      ]
     },
     "metadata": {},
     "output_type": "display_data"
    },
    {
     "name": "stdout",
     "output_type": "stream",
     "text": [
      "Round 15:  mean-loss = 0.8154   mean-Dice = 0.6589\n"
     ]
    },
    {
     "data": {
      "application/vnd.jupyter.widget-view+json": {
       "model_id": "e2becafc044b400c8e533a86beb9a0e2",
       "version_major": 2,
       "version_minor": 0
      },
      "text/plain": [
       " clients:   0%|                                                                                   | 0/3 [00:00…"
      ]
     },
     "metadata": {},
     "output_type": "display_data"
    },
    {
     "data": {
      "application/vnd.jupyter.widget-view+json": {
       "model_id": "a42ce167493d42519e891aa29e4adb4b",
       "version_major": 2,
       "version_minor": 0
      },
      "text/plain": [
       "Evaluating:   0%|          | 0/47 [00:00<?, ?it/s]"
      ]
     },
     "metadata": {},
     "output_type": "display_data"
    },
    {
     "name": "stdout",
     "output_type": "stream",
     "text": [
      "Round 16:  mean-loss = 0.8061   mean-Dice = 0.7012\n"
     ]
    },
    {
     "data": {
      "application/vnd.jupyter.widget-view+json": {
       "model_id": "b705c5be960c4cf5bc422466b761b831",
       "version_major": 2,
       "version_minor": 0
      },
      "text/plain": [
       " clients:   0%|                                                                                   | 0/3 [00:00…"
      ]
     },
     "metadata": {},
     "output_type": "display_data"
    },
    {
     "name": "stderr",
     "output_type": "stream",
     "text": [
      "Exception ignored in: <function _MultiProcessingDataLoaderIter.__del__ at 0x7fb6ed313400>\n",
      "Traceback (most recent call last):\n",
      "  File \"/home/locolinux2/miniconda3/envs/m_quant_py310/lib/python3.10/site-packages/torch/utils/data/dataloader.py\", line 1664, in __del__\n",
      "    self._shutdown_workers()\n",
      "  File \"/home/locolinux2/miniconda3/envs/m_quant_py310/lib/python3.10/site-packages/torch/utils/data/dataloader.py\", line 1647, in _shutdown_workers\n",
      "    if w.is_alive():\n",
      "  File \"/home/locolinux2/miniconda3/envs/m_quant_py310/lib/python3.10/multiprocessing/process.py\", line 160, in is_alive\n",
      "    assert self._parent_pid == os.getpid(), 'can only test a child process'\n",
      "AssertionError: can only test a child process\n",
      "Exception ignored in: <function _MultiProcessingDataLoaderIter.__del__ at 0x7fb6ed313400>\n",
      "Traceback (most recent call last):\n",
      "  File \"/home/locolinux2/miniconda3/envs/m_quant_py310/lib/python3.10/site-packages/torch/utils/data/dataloader.py\", line 1664, in __del__\n",
      "    self._shutdown_workers()\n",
      "  File \"/home/locolinux2/miniconda3/envs/m_quant_py310/lib/python3.10/site-packages/torch/utils/data/dataloader.py\", line 1647, in _shutdown_workers\n",
      "    if w.is_alive():\n",
      "  File \"/home/locolinux2/miniconda3/envs/m_quant_py310/lib/python3.10/multiprocessing/process.py\", line 160, in is_alive\n",
      "    assert self._parent_pid == os.getpid(), 'can only test a child process'\n",
      "AssertionError: can only test a child process\n",
      "Exception ignored in: <function _MultiProcessingDataLoaderIter.__del__ at 0x7fb6ed313400>\n",
      "Traceback (most recent call last):\n",
      "  File \"/home/locolinux2/miniconda3/envs/m_quant_py310/lib/python3.10/site-packages/torch/utils/data/dataloader.py\", line 1664, in __del__\n",
      "    self._shutdown_workers()\n",
      "  File \"/home/locolinux2/miniconda3/envs/m_quant_py310/lib/python3.10/site-packages/torch/utils/data/dataloader.py\", line 1647, in _shutdown_workers\n",
      "    if w.is_alive():\n",
      "  File \"/home/locolinux2/miniconda3/envs/m_quant_py310/lib/python3.10/multiprocessing/process.py\", line 160, in is_alive\n",
      "    assert self._parent_pid == os.getpid(), 'can only test a child process'\n",
      "AssertionError: can only test a child process\n",
      "Exception ignored in: <function _MultiProcessingDataLoaderIter.__del__ at 0x7fb6ed313400>\n",
      "Traceback (most recent call last):\n",
      "  File \"/home/locolinux2/miniconda3/envs/m_quant_py310/lib/python3.10/site-packages/torch/utils/data/dataloader.py\", line 1664, in __del__\n",
      "    self._shutdown_workers()\n",
      "  File \"/home/locolinux2/miniconda3/envs/m_quant_py310/lib/python3.10/site-packages/torch/utils/data/dataloader.py\", line 1647, in _shutdown_workers\n",
      "    if w.is_alive():\n",
      "  File \"/home/locolinux2/miniconda3/envs/m_quant_py310/lib/python3.10/multiprocessing/process.py\", line 160, in is_alive\n",
      "    assert self._parent_pid == os.getpid(), 'can only test a child process'\n",
      "AssertionError: can only test a child process\n"
     ]
    },
    {
     "data": {
      "application/vnd.jupyter.widget-view+json": {
       "model_id": "5920b586de2a419da12c8ffd6e277eae",
       "version_major": 2,
       "version_minor": 0
      },
      "text/plain": [
       "Evaluating:   0%|          | 0/47 [00:00<?, ?it/s]"
      ]
     },
     "metadata": {},
     "output_type": "display_data"
    },
    {
     "name": "stdout",
     "output_type": "stream",
     "text": [
      "Round 17:  mean-loss = 0.7940   mean-Dice = 0.6881\n"
     ]
    },
    {
     "data": {
      "application/vnd.jupyter.widget-view+json": {
       "model_id": "3be121d373d147d38f409b6530df84b2",
       "version_major": 2,
       "version_minor": 0
      },
      "text/plain": [
       " clients:   0%|                                                                                   | 0/3 [00:00…"
      ]
     },
     "metadata": {},
     "output_type": "display_data"
    },
    {
     "data": {
      "application/vnd.jupyter.widget-view+json": {
       "model_id": "02253247927b4e968dd1d1c886872e2e",
       "version_major": 2,
       "version_minor": 0
      },
      "text/plain": [
       "Evaluating:   0%|          | 0/47 [00:00<?, ?it/s]"
      ]
     },
     "metadata": {},
     "output_type": "display_data"
    },
    {
     "name": "stdout",
     "output_type": "stream",
     "text": [
      "Round 18:  mean-loss = 0.7855   mean-Dice = 0.7274\n"
     ]
    },
    {
     "data": {
      "application/vnd.jupyter.widget-view+json": {
       "model_id": "3cc197d3c2044906bd16c89aa72f8a30",
       "version_major": 2,
       "version_minor": 0
      },
      "text/plain": [
       " clients:   0%|                                                                                   | 0/3 [00:00…"
      ]
     },
     "metadata": {},
     "output_type": "display_data"
    },
    {
     "data": {
      "application/vnd.jupyter.widget-view+json": {
       "model_id": "1205d691969c4db39fd5331ea0058c38",
       "version_major": 2,
       "version_minor": 0
      },
      "text/plain": [
       "Evaluating:   0%|          | 0/47 [00:00<?, ?it/s]"
      ]
     },
     "metadata": {},
     "output_type": "display_data"
    },
    {
     "name": "stdout",
     "output_type": "stream",
     "text": [
      "Round 19:  mean-loss = 0.7732   mean-Dice = 0.6659\n"
     ]
    },
    {
     "data": {
      "application/vnd.jupyter.widget-view+json": {
       "model_id": "2b1fc87413c14cf4bae37bbeac1504b1",
       "version_major": 2,
       "version_minor": 0
      },
      "text/plain": [
       " clients:   0%|                                                                                   | 0/3 [00:00…"
      ]
     },
     "metadata": {},
     "output_type": "display_data"
    },
    {
     "data": {
      "application/vnd.jupyter.widget-view+json": {
       "model_id": "3c6b9fb6b7cb4d3f996dfe843b4ff7b6",
       "version_major": 2,
       "version_minor": 0
      },
      "text/plain": [
       "Evaluating:   0%|          | 0/47 [00:00<?, ?it/s]"
      ]
     },
     "metadata": {},
     "output_type": "display_data"
    },
    {
     "name": "stdout",
     "output_type": "stream",
     "text": [
      "Round 20:  mean-loss = 0.7670   mean-Dice = 0.6978\n"
     ]
    },
    {
     "data": {
      "application/vnd.jupyter.widget-view+json": {
       "model_id": "e5a6d09026974b4dbffcc9478dceec6b",
       "version_major": 2,
       "version_minor": 0
      },
      "text/plain": [
       " clients:   0%|                                                                                   | 0/3 [00:00…"
      ]
     },
     "metadata": {},
     "output_type": "display_data"
    },
    {
     "data": {
      "application/vnd.jupyter.widget-view+json": {
       "model_id": "a73a84c26de4471fad54030822fcfbcc",
       "version_major": 2,
       "version_minor": 0
      },
      "text/plain": [
       "Evaluating:   0%|          | 0/47 [00:00<?, ?it/s]"
      ]
     },
     "metadata": {},
     "output_type": "display_data"
    },
    {
     "name": "stdout",
     "output_type": "stream",
     "text": [
      "Round 21:  mean-loss = 0.7560   mean-Dice = 0.6990\n"
     ]
    },
    {
     "data": {
      "application/vnd.jupyter.widget-view+json": {
       "model_id": "6fcd69b1522b42f7bb7536acc4efaceb",
       "version_major": 2,
       "version_minor": 0
      },
      "text/plain": [
       " clients:   0%|                                                                                   | 0/3 [00:00…"
      ]
     },
     "metadata": {},
     "output_type": "display_data"
    },
    {
     "data": {
      "application/vnd.jupyter.widget-view+json": {
       "model_id": "d4bce0b8537347d18abd58be5577e6c2",
       "version_major": 2,
       "version_minor": 0
      },
      "text/plain": [
       "Evaluating:   0%|          | 0/47 [00:00<?, ?it/s]"
      ]
     },
     "metadata": {},
     "output_type": "display_data"
    },
    {
     "name": "stdout",
     "output_type": "stream",
     "text": [
      "Round 22:  mean-loss = 0.7438   mean-Dice = 0.7574\n"
     ]
    },
    {
     "data": {
      "application/vnd.jupyter.widget-view+json": {
       "model_id": "2bf5c6d7f02b4e24bdf5c38a5dc00138",
       "version_major": 2,
       "version_minor": 0
      },
      "text/plain": [
       " clients:   0%|                                                                                   | 0/3 [00:00…"
      ]
     },
     "metadata": {},
     "output_type": "display_data"
    },
    {
     "data": {
      "application/vnd.jupyter.widget-view+json": {
       "model_id": "0dd0995f7c904dc68a4dd61876073abe",
       "version_major": 2,
       "version_minor": 0
      },
      "text/plain": [
       "Evaluating:   0%|          | 0/47 [00:00<?, ?it/s]"
      ]
     },
     "metadata": {},
     "output_type": "display_data"
    },
    {
     "name": "stdout",
     "output_type": "stream",
     "text": [
      "Round 23:  mean-loss = 0.7346   mean-Dice = 0.7632\n"
     ]
    },
    {
     "data": {
      "application/vnd.jupyter.widget-view+json": {
       "model_id": "8874fa213c6d47238b1a37629eaaefa8",
       "version_major": 2,
       "version_minor": 0
      },
      "text/plain": [
       " clients:   0%|                                                                                   | 0/3 [00:00…"
      ]
     },
     "metadata": {},
     "output_type": "display_data"
    },
    {
     "data": {
      "application/vnd.jupyter.widget-view+json": {
       "model_id": "6803ef08c0e54513a6808c07c42beb38",
       "version_major": 2,
       "version_minor": 0
      },
      "text/plain": [
       "Evaluating:   0%|          | 0/47 [00:00<?, ?it/s]"
      ]
     },
     "metadata": {},
     "output_type": "display_data"
    },
    {
     "name": "stdout",
     "output_type": "stream",
     "text": [
      "Round 24:  mean-loss = 0.7143   mean-Dice = 0.7513\n"
     ]
    },
    {
     "data": {
      "application/vnd.jupyter.widget-view+json": {
       "model_id": "bf953e58ac474278a1de6336d1b1f296",
       "version_major": 2,
       "version_minor": 0
      },
      "text/plain": [
       " clients:   0%|                                                                                   | 0/3 [00:00…"
      ]
     },
     "metadata": {},
     "output_type": "display_data"
    },
    {
     "data": {
      "application/vnd.jupyter.widget-view+json": {
       "model_id": "d754e662cf4c454f9a33e8fd398932da",
       "version_major": 2,
       "version_minor": 0
      },
      "text/plain": [
       "Evaluating:   0%|          | 0/47 [00:00<?, ?it/s]"
      ]
     },
     "metadata": {},
     "output_type": "display_data"
    },
    {
     "name": "stdout",
     "output_type": "stream",
     "text": [
      "Round 25:  mean-loss = 0.7031   mean-Dice = 0.7307\n"
     ]
    },
    {
     "data": {
      "application/vnd.jupyter.widget-view+json": {
       "model_id": "e14faaf37e88487a94ddd85a38fa6cc4",
       "version_major": 2,
       "version_minor": 0
      },
      "text/plain": [
       " clients:   0%|                                                                                   | 0/3 [00:00…"
      ]
     },
     "metadata": {},
     "output_type": "display_data"
    },
    {
     "data": {
      "application/vnd.jupyter.widget-view+json": {
       "model_id": "bbbc98bf111247c1b7e757017d6062ba",
       "version_major": 2,
       "version_minor": 0
      },
      "text/plain": [
       "Evaluating:   0%|          | 0/47 [00:00<?, ?it/s]"
      ]
     },
     "metadata": {},
     "output_type": "display_data"
    },
    {
     "name": "stdout",
     "output_type": "stream",
     "text": [
      "Round 26:  mean-loss = 0.6931   mean-Dice = 0.7653\n"
     ]
    },
    {
     "data": {
      "application/vnd.jupyter.widget-view+json": {
       "model_id": "e3d7e9c94c874584914ed9d5b2663acb",
       "version_major": 2,
       "version_minor": 0
      },
      "text/plain": [
       " clients:   0%|                                                                                   | 0/3 [00:00…"
      ]
     },
     "metadata": {},
     "output_type": "display_data"
    },
    {
     "name": "stderr",
     "output_type": "stream",
     "text": [
      "IOStream.flush timed out\n",
      "IOStream.flush timed out\n",
      "IOStream.flush timed out\n",
      "IOStream.flush timed out\n"
     ]
    },
    {
     "data": {
      "application/vnd.jupyter.widget-view+json": {
       "model_id": "06f9c28d9be348149f54116cfc524108",
       "version_major": 2,
       "version_minor": 0
      },
      "text/plain": [
       "Evaluating:   0%|          | 0/47 [00:00<?, ?it/s]"
      ]
     },
     "metadata": {},
     "output_type": "display_data"
    },
    {
     "name": "stdout",
     "output_type": "stream",
     "text": [
      "Round 27:  mean-loss = 0.6779   mean-Dice = 0.7750\n"
     ]
    },
    {
     "data": {
      "application/vnd.jupyter.widget-view+json": {
       "model_id": "3fbb1bed60ab4f1885edea619bef28b9",
       "version_major": 2,
       "version_minor": 0
      },
      "text/plain": [
       " clients:   0%|                                                                                   | 0/3 [00:00…"
      ]
     },
     "metadata": {},
     "output_type": "display_data"
    },
    {
     "data": {
      "application/vnd.jupyter.widget-view+json": {
       "model_id": "6cc869c812c5493b8dff5a516db199cb",
       "version_major": 2,
       "version_minor": 0
      },
      "text/plain": [
       "Evaluating:   0%|          | 0/47 [00:00<?, ?it/s]"
      ]
     },
     "metadata": {},
     "output_type": "display_data"
    },
    {
     "name": "stdout",
     "output_type": "stream",
     "text": [
      "Round 28:  mean-loss = 0.6591   mean-Dice = 0.7503\n"
     ]
    },
    {
     "data": {
      "application/vnd.jupyter.widget-view+json": {
       "model_id": "e27f0c80c72e44f2b20d79db4195119a",
       "version_major": 2,
       "version_minor": 0
      },
      "text/plain": [
       " clients:   0%|                                                                                   | 0/3 [00:00…"
      ]
     },
     "metadata": {},
     "output_type": "display_data"
    },
    {
     "data": {
      "application/vnd.jupyter.widget-view+json": {
       "model_id": "b3e58474a6cc429683db9d53ace762b7",
       "version_major": 2,
       "version_minor": 0
      },
      "text/plain": [
       "Evaluating:   0%|          | 0/47 [00:00<?, ?it/s]"
      ]
     },
     "metadata": {},
     "output_type": "display_data"
    },
    {
     "name": "stdout",
     "output_type": "stream",
     "text": [
      "Round 29:  mean-loss = 0.6536   mean-Dice = 0.7419\n"
     ]
    },
    {
     "data": {
      "application/vnd.jupyter.widget-view+json": {
       "model_id": "b068a1c69f714f70adb9f52aa334368e",
       "version_major": 2,
       "version_minor": 0
      },
      "text/plain": [
       " clients:   0%|                                                                                   | 0/3 [00:00…"
      ]
     },
     "metadata": {},
     "output_type": "display_data"
    },
    {
     "data": {
      "application/vnd.jupyter.widget-view+json": {
       "model_id": "a162f209b80a4d51a40b61b602acee25",
       "version_major": 2,
       "version_minor": 0
      },
      "text/plain": [
       "Evaluating:   0%|          | 0/47 [00:00<?, ?it/s]"
      ]
     },
     "metadata": {},
     "output_type": "display_data"
    },
    {
     "name": "stdout",
     "output_type": "stream",
     "text": [
      "Round 30:  mean-loss = 0.6399   mean-Dice = 0.7634\n"
     ]
    },
    {
     "data": {
      "application/vnd.jupyter.widget-view+json": {
       "model_id": "62ada0328dc043bab8c115192114c1e2",
       "version_major": 2,
       "version_minor": 0
      },
      "text/plain": [
       " clients:   0%|                                                                                   | 0/3 [00:00…"
      ]
     },
     "metadata": {},
     "output_type": "display_data"
    },
    {
     "data": {
      "application/vnd.jupyter.widget-view+json": {
       "model_id": "d11959b5ecbd45978f41885d56f24d5b",
       "version_major": 2,
       "version_minor": 0
      },
      "text/plain": [
       "Evaluating:   0%|          | 0/47 [00:00<?, ?it/s]"
      ]
     },
     "metadata": {},
     "output_type": "display_data"
    },
    {
     "name": "stdout",
     "output_type": "stream",
     "text": [
      "Round 31:  mean-loss = 0.6186   mean-Dice = 0.7636\n"
     ]
    },
    {
     "data": {
      "application/vnd.jupyter.widget-view+json": {
       "model_id": "904c405e206d4d3db91d8b1edbcd3aeb",
       "version_major": 2,
       "version_minor": 0
      },
      "text/plain": [
       " clients:   0%|                                                                                   | 0/3 [00:00…"
      ]
     },
     "metadata": {},
     "output_type": "display_data"
    },
    {
     "data": {
      "application/vnd.jupyter.widget-view+json": {
       "model_id": "fff6c2809599489fa615450d9bc432f7",
       "version_major": 2,
       "version_minor": 0
      },
      "text/plain": [
       "Evaluating:   0%|          | 0/47 [00:00<?, ?it/s]"
      ]
     },
     "metadata": {},
     "output_type": "display_data"
    },
    {
     "name": "stdout",
     "output_type": "stream",
     "text": [
      "Round 32:  mean-loss = 0.6098   mean-Dice = 0.7789\n"
     ]
    },
    {
     "data": {
      "application/vnd.jupyter.widget-view+json": {
       "model_id": "aa2971a3445a499da6a082d4776ef4c8",
       "version_major": 2,
       "version_minor": 0
      },
      "text/plain": [
       " clients:   0%|                                                                                   | 0/3 [00:00…"
      ]
     },
     "metadata": {},
     "output_type": "display_data"
    },
    {
     "data": {
      "application/vnd.jupyter.widget-view+json": {
       "model_id": "3d5ecfc16f4149debb1e972b22c25aeb",
       "version_major": 2,
       "version_minor": 0
      },
      "text/plain": [
       "Evaluating:   0%|          | 0/47 [00:00<?, ?it/s]"
      ]
     },
     "metadata": {},
     "output_type": "display_data"
    },
    {
     "name": "stdout",
     "output_type": "stream",
     "text": [
      "Round 33:  mean-loss = 0.5843   mean-Dice = 0.7808\n"
     ]
    },
    {
     "data": {
      "application/vnd.jupyter.widget-view+json": {
       "model_id": "84f010936ede4b4dacc5ff0dbda593b9",
       "version_major": 2,
       "version_minor": 0
      },
      "text/plain": [
       " clients:   0%|                                                                                   | 0/3 [00:00…"
      ]
     },
     "metadata": {},
     "output_type": "display_data"
    },
    {
     "data": {
      "application/vnd.jupyter.widget-view+json": {
       "model_id": "25a3d7ad4e2446e9ac170dafbd0e8777",
       "version_major": 2,
       "version_minor": 0
      },
      "text/plain": [
       "Evaluating:   0%|          | 0/47 [00:00<?, ?it/s]"
      ]
     },
     "metadata": {},
     "output_type": "display_data"
    },
    {
     "name": "stdout",
     "output_type": "stream",
     "text": [
      "Round 34:  mean-loss = 0.5660   mean-Dice = 0.7631\n"
     ]
    },
    {
     "data": {
      "application/vnd.jupyter.widget-view+json": {
       "model_id": "8c64aad1a80843af84a3ef2460471f59",
       "version_major": 2,
       "version_minor": 0
      },
      "text/plain": [
       " clients:   0%|                                                                                   | 0/3 [00:00…"
      ]
     },
     "metadata": {},
     "output_type": "display_data"
    },
    {
     "data": {
      "application/vnd.jupyter.widget-view+json": {
       "model_id": "bb7d3d7d069f4db0afe8c3ed36acbfbd",
       "version_major": 2,
       "version_minor": 0
      },
      "text/plain": [
       "Evaluating:   0%|          | 0/47 [00:00<?, ?it/s]"
      ]
     },
     "metadata": {},
     "output_type": "display_data"
    },
    {
     "name": "stdout",
     "output_type": "stream",
     "text": [
      "Round 35:  mean-loss = 0.5581   mean-Dice = 0.7692\n"
     ]
    },
    {
     "data": {
      "application/vnd.jupyter.widget-view+json": {
       "model_id": "7d883fd08b83480a9a6ec8c3f1f5a2ef",
       "version_major": 2,
       "version_minor": 0
      },
      "text/plain": [
       " clients:   0%|                                                                                   | 0/3 [00:00…"
      ]
     },
     "metadata": {},
     "output_type": "display_data"
    },
    {
     "data": {
      "application/vnd.jupyter.widget-view+json": {
       "model_id": "4e4a57a73afb4be9abcc23965010b010",
       "version_major": 2,
       "version_minor": 0
      },
      "text/plain": [
       "Evaluating:   0%|          | 0/47 [00:00<?, ?it/s]"
      ]
     },
     "metadata": {},
     "output_type": "display_data"
    },
    {
     "name": "stdout",
     "output_type": "stream",
     "text": [
      "Round 36:  mean-loss = 0.5615   mean-Dice = 0.7707\n"
     ]
    },
    {
     "data": {
      "application/vnd.jupyter.widget-view+json": {
       "model_id": "7ee3686782ce4863a1e21a61e9a75725",
       "version_major": 2,
       "version_minor": 0
      },
      "text/plain": [
       " clients:   0%|                                                                                   | 0/3 [00:00…"
      ]
     },
     "metadata": {},
     "output_type": "display_data"
    },
    {
     "data": {
      "application/vnd.jupyter.widget-view+json": {
       "model_id": "6d45af697db741d39293ea5d1acd9d62",
       "version_major": 2,
       "version_minor": 0
      },
      "text/plain": [
       "Evaluating:   0%|          | 0/47 [00:00<?, ?it/s]"
      ]
     },
     "metadata": {},
     "output_type": "display_data"
    },
    {
     "name": "stdout",
     "output_type": "stream",
     "text": [
      "Round 37:  mean-loss = 0.5326   mean-Dice = 0.7685\n"
     ]
    },
    {
     "data": {
      "application/vnd.jupyter.widget-view+json": {
       "model_id": "a6a39398027d4abba1383f59fc2a315a",
       "version_major": 2,
       "version_minor": 0
      },
      "text/plain": [
       " clients:   0%|                                                                                   | 0/3 [00:00…"
      ]
     },
     "metadata": {},
     "output_type": "display_data"
    },
    {
     "data": {
      "application/vnd.jupyter.widget-view+json": {
       "model_id": "83cba95a13b04ed2b4ed980d0f577343",
       "version_major": 2,
       "version_minor": 0
      },
      "text/plain": [
       "Evaluating:   0%|          | 0/47 [00:00<?, ?it/s]"
      ]
     },
     "metadata": {},
     "output_type": "display_data"
    },
    {
     "name": "stdout",
     "output_type": "stream",
     "text": [
      "Round 38:  mean-loss = 0.5110   mean-Dice = 0.7670\n"
     ]
    },
    {
     "data": {
      "application/vnd.jupyter.widget-view+json": {
       "model_id": "0c0bec7fdc3b44f1a79b8b9c5850a523",
       "version_major": 2,
       "version_minor": 0
      },
      "text/plain": [
       " clients:   0%|                                                                                   | 0/3 [00:00…"
      ]
     },
     "metadata": {},
     "output_type": "display_data"
    },
    {
     "data": {
      "application/vnd.jupyter.widget-view+json": {
       "model_id": "c0ccedb057504f108edf2c5f8d0b8447",
       "version_major": 2,
       "version_minor": 0
      },
      "text/plain": [
       "Evaluating:   0%|          | 0/47 [00:00<?, ?it/s]"
      ]
     },
     "metadata": {},
     "output_type": "display_data"
    },
    {
     "name": "stdout",
     "output_type": "stream",
     "text": [
      "Round 39:  mean-loss = 0.5016   mean-Dice = 0.7841\n"
     ]
    },
    {
     "data": {
      "application/vnd.jupyter.widget-view+json": {
       "model_id": "8160e65a993b4f00a99dccb0d5456c58",
       "version_major": 2,
       "version_minor": 0
      },
      "text/plain": [
       " clients:   0%|                                                                                   | 0/3 [00:00…"
      ]
     },
     "metadata": {},
     "output_type": "display_data"
    },
    {
     "data": {
      "application/vnd.jupyter.widget-view+json": {
       "model_id": "b0295674f90849958d0ff502d023eae6",
       "version_major": 2,
       "version_minor": 0
      },
      "text/plain": [
       "Evaluating:   0%|          | 0/47 [00:00<?, ?it/s]"
      ]
     },
     "metadata": {},
     "output_type": "display_data"
    },
    {
     "name": "stdout",
     "output_type": "stream",
     "text": [
      "Round 40:  mean-loss = 0.4734   mean-Dice = 0.7852\n"
     ]
    },
    {
     "data": {
      "application/vnd.jupyter.widget-view+json": {
       "model_id": "2da3ea1cf1bc48b4bed207ab043a2001",
       "version_major": 2,
       "version_minor": 0
      },
      "text/plain": [
       " clients:   0%|                                                                                   | 0/3 [00:00…"
      ]
     },
     "metadata": {},
     "output_type": "display_data"
    },
    {
     "data": {
      "application/vnd.jupyter.widget-view+json": {
       "model_id": "740d10c8bdfd46eda594f798c5edce28",
       "version_major": 2,
       "version_minor": 0
      },
      "text/plain": [
       "Evaluating:   0%|          | 0/47 [00:00<?, ?it/s]"
      ]
     },
     "metadata": {},
     "output_type": "display_data"
    },
    {
     "name": "stdout",
     "output_type": "stream",
     "text": [
      "Round 41:  mean-loss = 0.4653   mean-Dice = 0.7988\n"
     ]
    },
    {
     "data": {
      "application/vnd.jupyter.widget-view+json": {
       "model_id": "73167e28939e44b781edee49400690f2",
       "version_major": 2,
       "version_minor": 0
      },
      "text/plain": [
       " clients:   0%|                                                                                   | 0/3 [00:00…"
      ]
     },
     "metadata": {},
     "output_type": "display_data"
    },
    {
     "data": {
      "application/vnd.jupyter.widget-view+json": {
       "model_id": "05cfb964f97149eeab0cbe29806faf52",
       "version_major": 2,
       "version_minor": 0
      },
      "text/plain": [
       "Evaluating:   0%|          | 0/47 [00:00<?, ?it/s]"
      ]
     },
     "metadata": {},
     "output_type": "display_data"
    },
    {
     "name": "stdout",
     "output_type": "stream",
     "text": [
      "Round 42:  mean-loss = 0.4404   mean-Dice = 0.7938\n"
     ]
    },
    {
     "data": {
      "application/vnd.jupyter.widget-view+json": {
       "model_id": "5089a302b86f49859190777f10c8b362",
       "version_major": 2,
       "version_minor": 0
      },
      "text/plain": [
       " clients:   0%|                                                                                   | 0/3 [00:00…"
      ]
     },
     "metadata": {},
     "output_type": "display_data"
    },
    {
     "data": {
      "application/vnd.jupyter.widget-view+json": {
       "model_id": "97ee2e934c0249ebada5b6106731f19d",
       "version_major": 2,
       "version_minor": 0
      },
      "text/plain": [
       "Evaluating:   0%|          | 0/47 [00:00<?, ?it/s]"
      ]
     },
     "metadata": {},
     "output_type": "display_data"
    },
    {
     "name": "stdout",
     "output_type": "stream",
     "text": [
      "Round 43:  mean-loss = 0.4235   mean-Dice = 0.7905\n"
     ]
    },
    {
     "data": {
      "application/vnd.jupyter.widget-view+json": {
       "model_id": "be1a70625cf744f0a474ce015147f2bc",
       "version_major": 2,
       "version_minor": 0
      },
      "text/plain": [
       " clients:   0%|                                                                                   | 0/3 [00:00…"
      ]
     },
     "metadata": {},
     "output_type": "display_data"
    },
    {
     "data": {
      "application/vnd.jupyter.widget-view+json": {
       "model_id": "d136e626a22c40e0bf8d3efa527f8f3b",
       "version_major": 2,
       "version_minor": 0
      },
      "text/plain": [
       "Evaluating:   0%|          | 0/47 [00:00<?, ?it/s]"
      ]
     },
     "metadata": {},
     "output_type": "display_data"
    },
    {
     "name": "stdout",
     "output_type": "stream",
     "text": [
      "Round 44:  mean-loss = 0.4177   mean-Dice = 0.7959\n"
     ]
    },
    {
     "data": {
      "application/vnd.jupyter.widget-view+json": {
       "model_id": "f68d34f40e324bb984c39efe7ce577fc",
       "version_major": 2,
       "version_minor": 0
      },
      "text/plain": [
       " clients:   0%|                                                                                   | 0/3 [00:00…"
      ]
     },
     "metadata": {},
     "output_type": "display_data"
    },
    {
     "data": {
      "application/vnd.jupyter.widget-view+json": {
       "model_id": "d07f60f6a2554680853566fcf6298e07",
       "version_major": 2,
       "version_minor": 0
      },
      "text/plain": [
       "Evaluating:   0%|          | 0/47 [00:00<?, ?it/s]"
      ]
     },
     "metadata": {},
     "output_type": "display_data"
    },
    {
     "name": "stdout",
     "output_type": "stream",
     "text": [
      "Round 45:  mean-loss = 0.3944   mean-Dice = 0.8132\n"
     ]
    },
    {
     "data": {
      "application/vnd.jupyter.widget-view+json": {
       "model_id": "5cbcc056e5124c9aba870c9a9ab89a8a",
       "version_major": 2,
       "version_minor": 0
      },
      "text/plain": [
       " clients:   0%|                                                                                   | 0/3 [00:00…"
      ]
     },
     "metadata": {},
     "output_type": "display_data"
    },
    {
     "data": {
      "application/vnd.jupyter.widget-view+json": {
       "model_id": "8ab8ab6ae17547f99f0b4d1cbcdada67",
       "version_major": 2,
       "version_minor": 0
      },
      "text/plain": [
       "Evaluating:   0%|          | 0/47 [00:00<?, ?it/s]"
      ]
     },
     "metadata": {},
     "output_type": "display_data"
    },
    {
     "name": "stdout",
     "output_type": "stream",
     "text": [
      "Round 46:  mean-loss = 0.3839   mean-Dice = 0.7673\n"
     ]
    },
    {
     "data": {
      "application/vnd.jupyter.widget-view+json": {
       "model_id": "880c3f30fc504904afb8d41992253d4e",
       "version_major": 2,
       "version_minor": 0
      },
      "text/plain": [
       " clients:   0%|                                                                                   | 0/3 [00:00…"
      ]
     },
     "metadata": {},
     "output_type": "display_data"
    },
    {
     "data": {
      "application/vnd.jupyter.widget-view+json": {
       "model_id": "a5b97a6be678488baf1472fa7c58db3d",
       "version_major": 2,
       "version_minor": 0
      },
      "text/plain": [
       "Evaluating:   0%|          | 0/47 [00:00<?, ?it/s]"
      ]
     },
     "metadata": {},
     "output_type": "display_data"
    },
    {
     "name": "stdout",
     "output_type": "stream",
     "text": [
      "Round 47:  mean-loss = 0.3966   mean-Dice = 0.7511\n"
     ]
    },
    {
     "data": {
      "application/vnd.jupyter.widget-view+json": {
       "model_id": "9d723057fa5e40cc9f69abe76dc50472",
       "version_major": 2,
       "version_minor": 0
      },
      "text/plain": [
       " clients:   0%|                                                                                   | 0/3 [00:00…"
      ]
     },
     "metadata": {},
     "output_type": "display_data"
    },
    {
     "data": {
      "application/vnd.jupyter.widget-view+json": {
       "model_id": "8c1492ad5d9c4a938c34e766aef914d5",
       "version_major": 2,
       "version_minor": 0
      },
      "text/plain": [
       "Evaluating:   0%|          | 0/47 [00:00<?, ?it/s]"
      ]
     },
     "metadata": {},
     "output_type": "display_data"
    },
    {
     "name": "stdout",
     "output_type": "stream",
     "text": [
      "Round 48:  mean-loss = 0.3874   mean-Dice = 0.8087\n"
     ]
    },
    {
     "data": {
      "application/vnd.jupyter.widget-view+json": {
       "model_id": "1e44b01d6c744c9e8258df6711e825c4",
       "version_major": 2,
       "version_minor": 0
      },
      "text/plain": [
       " clients:   0%|                                                                                   | 0/3 [00:00…"
      ]
     },
     "metadata": {},
     "output_type": "display_data"
    },
    {
     "data": {
      "application/vnd.jupyter.widget-view+json": {
       "model_id": "db1664719f4a4bf59330a24dc71e306a",
       "version_major": 2,
       "version_minor": 0
      },
      "text/plain": [
       "Evaluating:   0%|          | 0/47 [00:00<?, ?it/s]"
      ]
     },
     "metadata": {},
     "output_type": "display_data"
    },
    {
     "name": "stdout",
     "output_type": "stream",
     "text": [
      "Round 49:  mean-loss = 0.3344   mean-Dice = 0.8044\n"
     ]
    },
    {
     "data": {
      "application/vnd.jupyter.widget-view+json": {
       "model_id": "7ac7405d155049b0b3daf1ca50fa2d3d",
       "version_major": 2,
       "version_minor": 0
      },
      "text/plain": [
       " clients:   0%|                                                                                   | 0/3 [00:00…"
      ]
     },
     "metadata": {},
     "output_type": "display_data"
    },
    {
     "name": "stderr",
     "output_type": "stream",
     "text": [
      "Exception ignored in: <function _MultiProcessingDataLoaderIter.__del__ at 0x7fb6ed313400>\n",
      "Traceback (most recent call last):\n",
      "  File \"/home/locolinux2/miniconda3/envs/m_quant_py310/lib/python3.10/site-packages/torch/utils/data/dataloader.py\", line 1664, in __del__\n",
      "    self._shutdown_workers()\n",
      "  File \"/home/locolinux2/miniconda3/envs/m_quant_py310/lib/python3.10/site-packages/torch/utils/data/dataloader.py\", line 1647, in _shutdown_workers\n",
      "    if w.is_alive():\n",
      "  File \"/home/locolinux2/miniconda3/envs/m_quant_py310/lib/python3.10/multiprocessing/process.py\", line 160, in is_alive\n",
      "    assert self._parent_pid == os.getpid(), 'can only test a child process'\n",
      "AssertionError: can only test a child process\n",
      "Exception ignored in: <function _MultiProcessingDataLoaderIter.__del__ at 0x7fb6ed313400>\n",
      "Traceback (most recent call last):\n",
      "  File \"/home/locolinux2/miniconda3/envs/m_quant_py310/lib/python3.10/site-packages/torch/utils/data/dataloader.py\", line 1664, in __del__\n",
      "    self._shutdown_workers()\n",
      "  File \"/home/locolinux2/miniconda3/envs/m_quant_py310/lib/python3.10/site-packages/torch/utils/data/dataloader.py\", line 1647, in _shutdown_workers\n",
      "    if w.is_alive():\n",
      "  File \"/home/locolinux2/miniconda3/envs/m_quant_py310/lib/python3.10/multiprocessing/process.py\", line 160, in is_alive\n",
      "    assert self._parent_pid == os.getpid(), 'can only test a child process'\n",
      "AssertionError: can only test a child process\n",
      "Exception ignored in: <function _MultiProcessingDataLoaderIter.__del__ at 0x7fb6ed313400>\n",
      "Traceback (most recent call last):\n",
      "  File \"/home/locolinux2/miniconda3/envs/m_quant_py310/lib/python3.10/site-packages/torch/utils/data/dataloader.py\", line 1664, in __del__\n",
      "    self._shutdown_workers()\n",
      "  File \"/home/locolinux2/miniconda3/envs/m_quant_py310/lib/python3.10/site-packages/torch/utils/data/dataloader.py\", line 1647, in _shutdown_workers\n",
      "Exception ignored in:     <function _MultiProcessingDataLoaderIter.__del__ at 0x7fb6ed313400>if w.is_alive():\n",
      "\n",
      "Traceback (most recent call last):\n",
      "  File \"/home/locolinux2/miniconda3/envs/m_quant_py310/lib/python3.10/multiprocessing/process.py\", line 160, in is_alive\n",
      "  File \"/home/locolinux2/miniconda3/envs/m_quant_py310/lib/python3.10/site-packages/torch/utils/data/dataloader.py\", line 1664, in __del__\n",
      "        assert self._parent_pid == os.getpid(), 'can only test a child process'self._shutdown_workers()\n",
      "\n",
      "AssertionError  File \"/home/locolinux2/miniconda3/envs/m_quant_py310/lib/python3.10/site-packages/torch/utils/data/dataloader.py\", line 1647, in _shutdown_workers\n",
      ":     can only test a child processif w.is_alive():\n",
      "\n",
      "  File \"/home/locolinux2/miniconda3/envs/m_quant_py310/lib/python3.10/multiprocessing/process.py\", line 160, in is_alive\n",
      "    assert self._parent_pid == os.getpid(), 'can only test a child process'\n",
      "AssertionError: can only test a child process\n"
     ]
    },
    {
     "data": {
      "application/vnd.jupyter.widget-view+json": {
       "model_id": "c8b62b9c978f4544917ffa7cf7d78108",
       "version_major": 2,
       "version_minor": 0
      },
      "text/plain": [
       "Evaluating:   0%|          | 0/47 [00:00<?, ?it/s]"
      ]
     },
     "metadata": {},
     "output_type": "display_data"
    },
    {
     "name": "stdout",
     "output_type": "stream",
     "text": [
      "Round 50:  mean-loss = 0.3340   mean-Dice = 0.8194\n"
     ]
    }
   ],
   "source": [
    "from tqdm.auto import tqdm, trange   # trange == tqdm(range())\n",
    "from collections import OrderedDict\n",
    "\n",
    "def average_weights(state_dicts, fractions):\n",
    "    \"\"\"\n",
    "    Federated averaging with client fractions (must sum to 1).\n",
    "    state_dicts: list of state_dicts (same keys)\n",
    "    fractions:   list of floats, same length, sum≈1\n",
    "    \"\"\"\n",
    "    avg_sd = OrderedDict()\n",
    "    for k in state_dicts[0].keys():\n",
    "        avg = 0.0\n",
    "        for sd, w in zip(state_dicts, fractions):\n",
    "            avg += sd[k] * w\n",
    "        avg_sd[k] = avg\n",
    "    return avg_sd\n",
    "\n",
    "# ────────────────────────────────────────────────────────────\n",
    "# 1. one-client update (returns weights + mean loss)          │\n",
    "# ────────────────────────────────────────────────────────────\n",
    "def local_train(model, loader, device, lr=1e-4, epochs=1):\n",
    "    \"\"\"\n",
    "    Train a local copy of the global model on one client's DataLoader.\n",
    "    Uses your DiceLoss (multi-label, sigmoid) and full crops from transforms.\n",
    "    \"\"\"\n",
    "    model = copy.deepcopy(model).to(device)\n",
    "    model.train()\n",
    "\n",
    "    # reuse your loss choice; or inline DiceLoss the same way\n",
    "    crit = DiceLoss(smooth_nr=0, smooth_dr=1e-5, squared_pred=True,\n",
    "                    to_onehot_y=False, sigmoid=True).to(device)\n",
    "\n",
    "    opt = torch.optim.Adam(model.parameters(), lr=lr)\n",
    "    epoch_losses = []\n",
    "\n",
    "    for _ in range(epochs):\n",
    "        running = 0.0\n",
    "        for batch in loader:\n",
    "            img = batch[\"image\"].to(device)   # [B, 4, D, H, W]\n",
    "            msk = batch[\"label\"].to(device)   # [B, 3, D, H, W]\n",
    "\n",
    "            opt.zero_grad(set_to_none=True)\n",
    "            logits = model(img)               # [B, 3, D, H, W]\n",
    "            loss = crit(logits, msk)\n",
    "            loss.backward()\n",
    "            opt.step()\n",
    "\n",
    "            running += float(loss.item())\n",
    "        epoch_losses.append(running / max(1, len(loader)))\n",
    "\n",
    "    return model.state_dict(), float(np.mean(epoch_losses))\n",
    "\n",
    "\n",
    "# ────────────────────────────────────────────────────────────\n",
    "# 2. FedAvg training loop (simple tqdm + clean prints)        │\n",
    "# ────────────────────────────────────────────────────────────\n",
    "from tqdm.auto import tqdm, trange\n",
    "\n",
    "EPOCHS, LOCAL_EPOCHS, LR, BATCH = 50, 1, 1e-4, 1\n",
    "\n",
    "idxs_users = list(train_datasets.keys())\n",
    "sizes      = {k: len(ds) for k, ds in train_datasets.items()}\n",
    "total_n    = sum(sizes.values())\n",
    "fractions  = [sizes[k] / total_n for k in idxs_users]\n",
    "\n",
    "print(\"Dice before any training:\", evaluate_model(global_model, test_dataset, device))\n",
    "\n",
    "best_metric = -1\n",
    "best_metric_epoch = -1\n",
    "best_metrics_epochs_and_time = [[], [], []]\n",
    "epoch_loss_values = []\n",
    "metric_values = []\n",
    "metric_values_tc = []\n",
    "metric_values_wt = []\n",
    "metric_values_et = []\n",
    "\n",
    "for rnd in trange(1, EPOCHS + 1, desc=\"Global rounds\", position=0, leave=True, dynamic_ncols=True):\n",
    "    local_weights, client_losses = [], []\n",
    "\n",
    "    # client bar (line 1)\n",
    "    for cid in tqdm(idxs_users, desc=\" clients\", position=1, leave=False, total=len(idxs_users), dynamic_ncols=True):\n",
    "        loader = DataLoader(train_datasets[cid], batch_size=BATCH, shuffle=True, num_workers=4, pin_memory=True)\n",
    "        w, loss = local_train(global_model, loader, device, lr=LR, epochs=LOCAL_EPOCHS)\n",
    "        local_weights.append(w); client_losses.append(loss)\n",
    "\n",
    "    global_model.load_state_dict(average_weights(local_weights, fractions))\n",
    "\n",
    "    # eval bar (line 2)\n",
    "    mean_dice, metric_tc, metric_wt, metric_et = float(evaluate_model(global_model, test_dataset, device))\n",
    "    \n",
    "    metric_values.append(mean_dice)\n",
    "    metric_values_tc.append(metric_tc)\n",
    "    metric_values_wt.append(metric_wt)\n",
    "    metric_values_et.append(metric_et)\n",
    "    \n",
    "    mean_loss = float(np.mean(client_losses))\n",
    "\n",
    "\n",
    "    if mean_dice > best_metric:\n",
    "        best_metric = mean_dice\n",
    "        best_metric_epoch = epoch + 1\n",
    "        best_metrics_epochs_and_time[0].append(best_metric)\n",
    "        best_metrics_epochs_and_time[1].append(best_metric_epoch)\n",
    "        best_metrics_epochs_and_time[2].append(time.time() - total_start)\n",
    "        torch.save(\n",
    "            model.state_dict(),\n",
    "            os.path.join(root_dir, \"best_metric_model.pth\"),\n",
    "        )\n",
    "        print(\"saved new best metric model\")\n",
    "    \n",
    "    tqdm.write(f\"Round {rnd:02d}:  mean-loss = {mean_loss:.4f}   mean-Dice = {mean_dice:.4f}    TC-Dice = {metric_tc:.4f}    TC-Dice = {metric_wt:.4f}    TC-Dice = {metric_tc:.4f}\")\n",
    "\n"
   ]
  },
  {
   "cell_type": "code",
   "execution_count": 14,
   "id": "f66535be-41a8-408e-8279-fb01949d5d35",
   "metadata": {},
   "outputs": [
    {
     "name": "stdout",
     "output_type": "stream",
     "text": [
      "Mean Dice: 0.8154\n",
      "TC: 0.5636  WT: 0.4310  ET: 0.6576\n"
     ]
    }
   ],
   "source": [
    "from monai.metrics import DiceMetric\n",
    "from torch.utils.data import DataLoader\n",
    "import torch, numpy as np\n",
    "\n",
    "def evaluate_model_per_class(model, dataset, device, batch_size=1, num_workers=0):\n",
    "    loader = DataLoader(dataset, batch_size=batch_size, shuffle=False,\n",
    "                        num_workers=num_workers, pin_memory=False)\n",
    "\n",
    "    # mean per channel across batch  → (C,)  with empties counted\n",
    "    dice_percls = DiceMetric(include_background=False,\n",
    "                             reduction=\"mean_channel\",\n",
    "                             ignore_empty=False)\n",
    "\n",
    "    dice_percls.reset()\n",
    "    model.eval()\n",
    "    with torch.no_grad():\n",
    "        for batch in loader:\n",
    "            x = batch[\"image\"].to(device)\n",
    "            y = batch[\"label\"].to(device)     # [B,3,...] = [TC, WT, ET]\n",
    "            logits = inference(x)\n",
    "            preds  = (torch.sigmoid(logits) > 0.5).float()\n",
    "            dice_percls(y_pred=preds, y=y)\n",
    "\n",
    "    percls_t = dice_percls.aggregate()        # torch.Size([3])\n",
    "    percls   = percls_t.detach().cpu().tolist()\n",
    "    dice_percls.reset()\n",
    "\n",
    "    metric_tc, metric_wt, metric_et = percls[0], percls[1], percls[2]\n",
    "    mean_dice = float(np.mean(percls))        # simple arithmetic mean over classes\n",
    "    return mean_dice, metric_tc, metric_wt, metric_et\n",
    "\n",
    "\n",
    "mean_dice, metric_tc, metric_wt, metric_et = evaluate_model_per_class(\n",
    "    global_model, test_dataset, device, batch_size=1, num_workers=0\n",
    ")\n",
    "print(f\"Mean Dice: {mean_dice:.4f}\")\n",
    "print(f\"TC: {metric_tc:.4f}  WT: {metric_wt:.4f}  ET: {metric_et:.4f}\")\n"
   ]
  },
  {
   "cell_type": "code",
   "execution_count": 13,
   "id": "6ebc4790-0488-4f21-b24e-d2973adb9d3a",
   "metadata": {},
   "outputs": [
    {
     "name": "stdout",
     "output_type": "stream",
     "text": [
      "Mean Dice: 0.8557\n",
      "TC: 0.8639  WT: 0.8428  ET: 0.8603\n"
     ]
    }
   ],
   "source": [
    "def evaluate_model_per_class_manual(model, dataset, device, batch_size=1, num_workers=0, eps=1e-5):\n",
    "    loader = DataLoader(dataset, batch_size=batch_size, shuffle=False,\n",
    "                        num_workers=num_workers, pin_memory=False)\n",
    "\n",
    "    tp = torch.zeros(3, device=device)\n",
    "    p  = torch.zeros(3, device=device)\n",
    "    q  = torch.zeros(3, device=device)\n",
    "\n",
    "    model.eval()\n",
    "    with torch.no_grad():\n",
    "        for batch in loader:\n",
    "            x = batch[\"image\"].to(device)\n",
    "            y = batch[\"label\"].to(device)     # [B,3,...]\n",
    "            logits = inference(x)\n",
    "            pred   = (torch.sigmoid(logits) > 0.5).float()\n",
    "\n",
    "            # flatten to [B, C, -1]\n",
    "            B, C = pred.shape[:2]\n",
    "            pr = pred.view(B, C, -1)\n",
    "            gt = y.view(B, C, -1)\n",
    "\n",
    "            tp += (pr * gt).sum(dim=(0,2))\n",
    "            p  += pr.sum(dim=(0,2))\n",
    "            q  += gt.sum(dim=(0,2))\n",
    "\n",
    "    dice_c = (2*tp + eps) / (p + q + eps)     # [3]\n",
    "    metric_tc, metric_wt, metric_et = [float(v) for v in dice_c.tolist()]\n",
    "    mean_dice = float(dice_c.mean().item())\n",
    "    return mean_dice, metric_tc, metric_wt, metric_et\n",
    "\n",
    "mean_dice, metric_tc, metric_wt, metric_et = evaluate_model_per_class_manual(\n",
    "    global_model, test_dataset, device, batch_size=1, num_workers=0\n",
    ")\n",
    "print(f\"Mean Dice: {mean_dice:.4f}\")\n",
    "print(f\"TC: {metric_tc:.4f}  WT: {metric_wt:.4f}  ET: {metric_et:.4f}\")"
   ]
  }
 ],
 "metadata": {
  "kernelspec": {
   "display_name": "Python 3 (ipykernel)",
   "language": "python",
   "name": "python3"
  },
  "language_info": {
   "codemirror_mode": {
    "name": "ipython",
    "version": 3
   },
   "file_extension": ".py",
   "mimetype": "text/x-python",
   "name": "python",
   "nbconvert_exporter": "python",
   "pygments_lexer": "ipython3",
   "version": "3.10.18"
  }
 },
 "nbformat": 4,
 "nbformat_minor": 5
}
