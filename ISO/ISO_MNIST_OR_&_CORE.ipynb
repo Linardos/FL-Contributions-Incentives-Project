{
  "nbformat": 4,
  "nbformat_minor": 0,
  "metadata": {
    "colab": {
      "name": "ISO MNIST OR & CORE",
      "provenance": [],
      "authorship_tag": "ABX9TyNN0ozAGk1Gbjj5+cRTZLsb"
    },
    "kernelspec": {
      "name": "python3",
      "display_name": "Python 3"
    },
    "language_info": {
      "name": "python"
    },
    "accelerator": "GPU",
    "widgets": {
      "application/vnd.jupyter.widget-state+json": {
        "c7d7178b5b83433fbe83e59032bed39c": {
          "model_module": "@jupyter-widgets/controls",
          "model_name": "HBoxModel",
          "state": {
            "_view_name": "HBoxView",
            "_dom_classes": [],
            "_model_name": "HBoxModel",
            "_view_module": "@jupyter-widgets/controls",
            "_model_module_version": "1.5.0",
            "_view_count": null,
            "_view_module_version": "1.5.0",
            "box_style": "",
            "layout": "IPY_MODEL_0912880f5fa7410da2718ca68cf79f82",
            "_model_module": "@jupyter-widgets/controls",
            "children": [
              "IPY_MODEL_5359ad7d4d654e909e58d43181ce8ac3",
              "IPY_MODEL_af1a6444921c4062b7f5dffb5059963a"
            ]
          }
        },
        "0912880f5fa7410da2718ca68cf79f82": {
          "model_module": "@jupyter-widgets/base",
          "model_name": "LayoutModel",
          "state": {
            "_view_name": "LayoutView",
            "grid_template_rows": null,
            "right": null,
            "justify_content": null,
            "_view_module": "@jupyter-widgets/base",
            "overflow": null,
            "_model_module_version": "1.2.0",
            "_view_count": null,
            "flex_flow": null,
            "width": null,
            "min_width": null,
            "border": null,
            "align_items": null,
            "bottom": null,
            "_model_module": "@jupyter-widgets/base",
            "top": null,
            "grid_column": null,
            "overflow_y": null,
            "overflow_x": null,
            "grid_auto_flow": null,
            "grid_area": null,
            "grid_template_columns": null,
            "flex": null,
            "_model_name": "LayoutModel",
            "justify_items": null,
            "grid_row": null,
            "max_height": null,
            "align_content": null,
            "visibility": null,
            "align_self": null,
            "height": null,
            "min_height": null,
            "padding": null,
            "grid_auto_rows": null,
            "grid_gap": null,
            "max_width": null,
            "order": null,
            "_view_module_version": "1.2.0",
            "grid_template_areas": null,
            "object_position": null,
            "object_fit": null,
            "grid_auto_columns": null,
            "margin": null,
            "display": null,
            "left": null
          }
        },
        "5359ad7d4d654e909e58d43181ce8ac3": {
          "model_module": "@jupyter-widgets/controls",
          "model_name": "FloatProgressModel",
          "state": {
            "_view_name": "ProgressView",
            "style": "IPY_MODEL_7804c87db7434cc38de0a07230a95184",
            "_dom_classes": [],
            "description": "",
            "_model_name": "FloatProgressModel",
            "bar_style": "success",
            "max": 9912422,
            "_view_module": "@jupyter-widgets/controls",
            "_model_module_version": "1.5.0",
            "value": 9912422,
            "_view_count": null,
            "_view_module_version": "1.5.0",
            "orientation": "horizontal",
            "min": 0,
            "description_tooltip": null,
            "_model_module": "@jupyter-widgets/controls",
            "layout": "IPY_MODEL_b82fa1cbbc404e729bc61056c637d9cb"
          }
        },
        "af1a6444921c4062b7f5dffb5059963a": {
          "model_module": "@jupyter-widgets/controls",
          "model_name": "HTMLModel",
          "state": {
            "_view_name": "HTMLView",
            "style": "IPY_MODEL_d6e97e41d4e7438d9c9ed14e0ffab117",
            "_dom_classes": [],
            "description": "",
            "_model_name": "HTMLModel",
            "placeholder": "​",
            "_view_module": "@jupyter-widgets/controls",
            "_model_module_version": "1.5.0",
            "value": " 9913344/? [05:15&lt;00:00, 31403.43it/s]",
            "_view_count": null,
            "_view_module_version": "1.5.0",
            "description_tooltip": null,
            "_model_module": "@jupyter-widgets/controls",
            "layout": "IPY_MODEL_8a5e08cf6423467693302be50d8b12a2"
          }
        },
        "7804c87db7434cc38de0a07230a95184": {
          "model_module": "@jupyter-widgets/controls",
          "model_name": "ProgressStyleModel",
          "state": {
            "_view_name": "StyleView",
            "_model_name": "ProgressStyleModel",
            "description_width": "initial",
            "_view_module": "@jupyter-widgets/base",
            "_model_module_version": "1.5.0",
            "_view_count": null,
            "_view_module_version": "1.2.0",
            "bar_color": null,
            "_model_module": "@jupyter-widgets/controls"
          }
        },
        "b82fa1cbbc404e729bc61056c637d9cb": {
          "model_module": "@jupyter-widgets/base",
          "model_name": "LayoutModel",
          "state": {
            "_view_name": "LayoutView",
            "grid_template_rows": null,
            "right": null,
            "justify_content": null,
            "_view_module": "@jupyter-widgets/base",
            "overflow": null,
            "_model_module_version": "1.2.0",
            "_view_count": null,
            "flex_flow": null,
            "width": null,
            "min_width": null,
            "border": null,
            "align_items": null,
            "bottom": null,
            "_model_module": "@jupyter-widgets/base",
            "top": null,
            "grid_column": null,
            "overflow_y": null,
            "overflow_x": null,
            "grid_auto_flow": null,
            "grid_area": null,
            "grid_template_columns": null,
            "flex": null,
            "_model_name": "LayoutModel",
            "justify_items": null,
            "grid_row": null,
            "max_height": null,
            "align_content": null,
            "visibility": null,
            "align_self": null,
            "height": null,
            "min_height": null,
            "padding": null,
            "grid_auto_rows": null,
            "grid_gap": null,
            "max_width": null,
            "order": null,
            "_view_module_version": "1.2.0",
            "grid_template_areas": null,
            "object_position": null,
            "object_fit": null,
            "grid_auto_columns": null,
            "margin": null,
            "display": null,
            "left": null
          }
        },
        "d6e97e41d4e7438d9c9ed14e0ffab117": {
          "model_module": "@jupyter-widgets/controls",
          "model_name": "DescriptionStyleModel",
          "state": {
            "_view_name": "StyleView",
            "_model_name": "DescriptionStyleModel",
            "description_width": "",
            "_view_module": "@jupyter-widgets/base",
            "_model_module_version": "1.5.0",
            "_view_count": null,
            "_view_module_version": "1.2.0",
            "_model_module": "@jupyter-widgets/controls"
          }
        },
        "8a5e08cf6423467693302be50d8b12a2": {
          "model_module": "@jupyter-widgets/base",
          "model_name": "LayoutModel",
          "state": {
            "_view_name": "LayoutView",
            "grid_template_rows": null,
            "right": null,
            "justify_content": null,
            "_view_module": "@jupyter-widgets/base",
            "overflow": null,
            "_model_module_version": "1.2.0",
            "_view_count": null,
            "flex_flow": null,
            "width": null,
            "min_width": null,
            "border": null,
            "align_items": null,
            "bottom": null,
            "_model_module": "@jupyter-widgets/base",
            "top": null,
            "grid_column": null,
            "overflow_y": null,
            "overflow_x": null,
            "grid_auto_flow": null,
            "grid_area": null,
            "grid_template_columns": null,
            "flex": null,
            "_model_name": "LayoutModel",
            "justify_items": null,
            "grid_row": null,
            "max_height": null,
            "align_content": null,
            "visibility": null,
            "align_self": null,
            "height": null,
            "min_height": null,
            "padding": null,
            "grid_auto_rows": null,
            "grid_gap": null,
            "max_width": null,
            "order": null,
            "_view_module_version": "1.2.0",
            "grid_template_areas": null,
            "object_position": null,
            "object_fit": null,
            "grid_auto_columns": null,
            "margin": null,
            "display": null,
            "left": null
          }
        },
        "ebd1499301d948f0b46f8ab16d072845": {
          "model_module": "@jupyter-widgets/controls",
          "model_name": "HBoxModel",
          "state": {
            "_view_name": "HBoxView",
            "_dom_classes": [],
            "_model_name": "HBoxModel",
            "_view_module": "@jupyter-widgets/controls",
            "_model_module_version": "1.5.0",
            "_view_count": null,
            "_view_module_version": "1.5.0",
            "box_style": "",
            "layout": "IPY_MODEL_9c460baac9cd4a54af197fdd7b3eb2d4",
            "_model_module": "@jupyter-widgets/controls",
            "children": [
              "IPY_MODEL_36e381159cd34b20962610df5ddba71f",
              "IPY_MODEL_b53ab705d85947a6ae1e61a38960905c"
            ]
          }
        },
        "9c460baac9cd4a54af197fdd7b3eb2d4": {
          "model_module": "@jupyter-widgets/base",
          "model_name": "LayoutModel",
          "state": {
            "_view_name": "LayoutView",
            "grid_template_rows": null,
            "right": null,
            "justify_content": null,
            "_view_module": "@jupyter-widgets/base",
            "overflow": null,
            "_model_module_version": "1.2.0",
            "_view_count": null,
            "flex_flow": null,
            "width": null,
            "min_width": null,
            "border": null,
            "align_items": null,
            "bottom": null,
            "_model_module": "@jupyter-widgets/base",
            "top": null,
            "grid_column": null,
            "overflow_y": null,
            "overflow_x": null,
            "grid_auto_flow": null,
            "grid_area": null,
            "grid_template_columns": null,
            "flex": null,
            "_model_name": "LayoutModel",
            "justify_items": null,
            "grid_row": null,
            "max_height": null,
            "align_content": null,
            "visibility": null,
            "align_self": null,
            "height": null,
            "min_height": null,
            "padding": null,
            "grid_auto_rows": null,
            "grid_gap": null,
            "max_width": null,
            "order": null,
            "_view_module_version": "1.2.0",
            "grid_template_areas": null,
            "object_position": null,
            "object_fit": null,
            "grid_auto_columns": null,
            "margin": null,
            "display": null,
            "left": null
          }
        },
        "36e381159cd34b20962610df5ddba71f": {
          "model_module": "@jupyter-widgets/controls",
          "model_name": "FloatProgressModel",
          "state": {
            "_view_name": "ProgressView",
            "style": "IPY_MODEL_cd877051dda644ad83c66f556b0cec15",
            "_dom_classes": [],
            "description": "",
            "_model_name": "FloatProgressModel",
            "bar_style": "success",
            "max": 28881,
            "_view_module": "@jupyter-widgets/controls",
            "_model_module_version": "1.5.0",
            "value": 28881,
            "_view_count": null,
            "_view_module_version": "1.5.0",
            "orientation": "horizontal",
            "min": 0,
            "description_tooltip": null,
            "_model_module": "@jupyter-widgets/controls",
            "layout": "IPY_MODEL_22b95d72317e46869a3bc22b327f7b19"
          }
        },
        "b53ab705d85947a6ae1e61a38960905c": {
          "model_module": "@jupyter-widgets/controls",
          "model_name": "HTMLModel",
          "state": {
            "_view_name": "HTMLView",
            "style": "IPY_MODEL_9d115452706240c39b15929cd2a99639",
            "_dom_classes": [],
            "description": "",
            "_model_name": "HTMLModel",
            "placeholder": "​",
            "_view_module": "@jupyter-widgets/controls",
            "_model_module_version": "1.5.0",
            "value": " 29696/? [00:02&lt;00:00, 11497.05it/s]",
            "_view_count": null,
            "_view_module_version": "1.5.0",
            "description_tooltip": null,
            "_model_module": "@jupyter-widgets/controls",
            "layout": "IPY_MODEL_7da37c05e9454c6f99344752e4838737"
          }
        },
        "cd877051dda644ad83c66f556b0cec15": {
          "model_module": "@jupyter-widgets/controls",
          "model_name": "ProgressStyleModel",
          "state": {
            "_view_name": "StyleView",
            "_model_name": "ProgressStyleModel",
            "description_width": "initial",
            "_view_module": "@jupyter-widgets/base",
            "_model_module_version": "1.5.0",
            "_view_count": null,
            "_view_module_version": "1.2.0",
            "bar_color": null,
            "_model_module": "@jupyter-widgets/controls"
          }
        },
        "22b95d72317e46869a3bc22b327f7b19": {
          "model_module": "@jupyter-widgets/base",
          "model_name": "LayoutModel",
          "state": {
            "_view_name": "LayoutView",
            "grid_template_rows": null,
            "right": null,
            "justify_content": null,
            "_view_module": "@jupyter-widgets/base",
            "overflow": null,
            "_model_module_version": "1.2.0",
            "_view_count": null,
            "flex_flow": null,
            "width": null,
            "min_width": null,
            "border": null,
            "align_items": null,
            "bottom": null,
            "_model_module": "@jupyter-widgets/base",
            "top": null,
            "grid_column": null,
            "overflow_y": null,
            "overflow_x": null,
            "grid_auto_flow": null,
            "grid_area": null,
            "grid_template_columns": null,
            "flex": null,
            "_model_name": "LayoutModel",
            "justify_items": null,
            "grid_row": null,
            "max_height": null,
            "align_content": null,
            "visibility": null,
            "align_self": null,
            "height": null,
            "min_height": null,
            "padding": null,
            "grid_auto_rows": null,
            "grid_gap": null,
            "max_width": null,
            "order": null,
            "_view_module_version": "1.2.0",
            "grid_template_areas": null,
            "object_position": null,
            "object_fit": null,
            "grid_auto_columns": null,
            "margin": null,
            "display": null,
            "left": null
          }
        },
        "9d115452706240c39b15929cd2a99639": {
          "model_module": "@jupyter-widgets/controls",
          "model_name": "DescriptionStyleModel",
          "state": {
            "_view_name": "StyleView",
            "_model_name": "DescriptionStyleModel",
            "description_width": "",
            "_view_module": "@jupyter-widgets/base",
            "_model_module_version": "1.5.0",
            "_view_count": null,
            "_view_module_version": "1.2.0",
            "_model_module": "@jupyter-widgets/controls"
          }
        },
        "7da37c05e9454c6f99344752e4838737": {
          "model_module": "@jupyter-widgets/base",
          "model_name": "LayoutModel",
          "state": {
            "_view_name": "LayoutView",
            "grid_template_rows": null,
            "right": null,
            "justify_content": null,
            "_view_module": "@jupyter-widgets/base",
            "overflow": null,
            "_model_module_version": "1.2.0",
            "_view_count": null,
            "flex_flow": null,
            "width": null,
            "min_width": null,
            "border": null,
            "align_items": null,
            "bottom": null,
            "_model_module": "@jupyter-widgets/base",
            "top": null,
            "grid_column": null,
            "overflow_y": null,
            "overflow_x": null,
            "grid_auto_flow": null,
            "grid_area": null,
            "grid_template_columns": null,
            "flex": null,
            "_model_name": "LayoutModel",
            "justify_items": null,
            "grid_row": null,
            "max_height": null,
            "align_content": null,
            "visibility": null,
            "align_self": null,
            "height": null,
            "min_height": null,
            "padding": null,
            "grid_auto_rows": null,
            "grid_gap": null,
            "max_width": null,
            "order": null,
            "_view_module_version": "1.2.0",
            "grid_template_areas": null,
            "object_position": null,
            "object_fit": null,
            "grid_auto_columns": null,
            "margin": null,
            "display": null,
            "left": null
          }
        },
        "de5fc1b19bf542bcbbdd1786e1f31c37": {
          "model_module": "@jupyter-widgets/controls",
          "model_name": "HBoxModel",
          "state": {
            "_view_name": "HBoxView",
            "_dom_classes": [],
            "_model_name": "HBoxModel",
            "_view_module": "@jupyter-widgets/controls",
            "_model_module_version": "1.5.0",
            "_view_count": null,
            "_view_module_version": "1.5.0",
            "box_style": "",
            "layout": "IPY_MODEL_8ca862e6c8444869995218d37eb0cb36",
            "_model_module": "@jupyter-widgets/controls",
            "children": [
              "IPY_MODEL_e8259ec8267741fd802c7fc8d5137e5b",
              "IPY_MODEL_cc6543b061ea4dc4bf7c7c87d84912d2"
            ]
          }
        },
        "8ca862e6c8444869995218d37eb0cb36": {
          "model_module": "@jupyter-widgets/base",
          "model_name": "LayoutModel",
          "state": {
            "_view_name": "LayoutView",
            "grid_template_rows": null,
            "right": null,
            "justify_content": null,
            "_view_module": "@jupyter-widgets/base",
            "overflow": null,
            "_model_module_version": "1.2.0",
            "_view_count": null,
            "flex_flow": null,
            "width": null,
            "min_width": null,
            "border": null,
            "align_items": null,
            "bottom": null,
            "_model_module": "@jupyter-widgets/base",
            "top": null,
            "grid_column": null,
            "overflow_y": null,
            "overflow_x": null,
            "grid_auto_flow": null,
            "grid_area": null,
            "grid_template_columns": null,
            "flex": null,
            "_model_name": "LayoutModel",
            "justify_items": null,
            "grid_row": null,
            "max_height": null,
            "align_content": null,
            "visibility": null,
            "align_self": null,
            "height": null,
            "min_height": null,
            "padding": null,
            "grid_auto_rows": null,
            "grid_gap": null,
            "max_width": null,
            "order": null,
            "_view_module_version": "1.2.0",
            "grid_template_areas": null,
            "object_position": null,
            "object_fit": null,
            "grid_auto_columns": null,
            "margin": null,
            "display": null,
            "left": null
          }
        },
        "e8259ec8267741fd802c7fc8d5137e5b": {
          "model_module": "@jupyter-widgets/controls",
          "model_name": "FloatProgressModel",
          "state": {
            "_view_name": "ProgressView",
            "style": "IPY_MODEL_be33258f18da45a1a84c7c7744c74b9e",
            "_dom_classes": [],
            "description": "",
            "_model_name": "FloatProgressModel",
            "bar_style": "success",
            "max": 1648877,
            "_view_module": "@jupyter-widgets/controls",
            "_model_module_version": "1.5.0",
            "value": 1648877,
            "_view_count": null,
            "_view_module_version": "1.5.0",
            "orientation": "horizontal",
            "min": 0,
            "description_tooltip": null,
            "_model_module": "@jupyter-widgets/controls",
            "layout": "IPY_MODEL_b6fa25c748694268a318ccc19564db42"
          }
        },
        "cc6543b061ea4dc4bf7c7c87d84912d2": {
          "model_module": "@jupyter-widgets/controls",
          "model_name": "HTMLModel",
          "state": {
            "_view_name": "HTMLView",
            "style": "IPY_MODEL_1914d2d24b58466b89f110e14c2b3e16",
            "_dom_classes": [],
            "description": "",
            "_model_name": "HTMLModel",
            "placeholder": "​",
            "_view_module": "@jupyter-widgets/controls",
            "_model_module_version": "1.5.0",
            "value": " 1649664/? [00:08&lt;00:00, 185381.55it/s]",
            "_view_count": null,
            "_view_module_version": "1.5.0",
            "description_tooltip": null,
            "_model_module": "@jupyter-widgets/controls",
            "layout": "IPY_MODEL_c3eb41ca799646c1a21ef44777dc83b5"
          }
        },
        "be33258f18da45a1a84c7c7744c74b9e": {
          "model_module": "@jupyter-widgets/controls",
          "model_name": "ProgressStyleModel",
          "state": {
            "_view_name": "StyleView",
            "_model_name": "ProgressStyleModel",
            "description_width": "initial",
            "_view_module": "@jupyter-widgets/base",
            "_model_module_version": "1.5.0",
            "_view_count": null,
            "_view_module_version": "1.2.0",
            "bar_color": null,
            "_model_module": "@jupyter-widgets/controls"
          }
        },
        "b6fa25c748694268a318ccc19564db42": {
          "model_module": "@jupyter-widgets/base",
          "model_name": "LayoutModel",
          "state": {
            "_view_name": "LayoutView",
            "grid_template_rows": null,
            "right": null,
            "justify_content": null,
            "_view_module": "@jupyter-widgets/base",
            "overflow": null,
            "_model_module_version": "1.2.0",
            "_view_count": null,
            "flex_flow": null,
            "width": null,
            "min_width": null,
            "border": null,
            "align_items": null,
            "bottom": null,
            "_model_module": "@jupyter-widgets/base",
            "top": null,
            "grid_column": null,
            "overflow_y": null,
            "overflow_x": null,
            "grid_auto_flow": null,
            "grid_area": null,
            "grid_template_columns": null,
            "flex": null,
            "_model_name": "LayoutModel",
            "justify_items": null,
            "grid_row": null,
            "max_height": null,
            "align_content": null,
            "visibility": null,
            "align_self": null,
            "height": null,
            "min_height": null,
            "padding": null,
            "grid_auto_rows": null,
            "grid_gap": null,
            "max_width": null,
            "order": null,
            "_view_module_version": "1.2.0",
            "grid_template_areas": null,
            "object_position": null,
            "object_fit": null,
            "grid_auto_columns": null,
            "margin": null,
            "display": null,
            "left": null
          }
        },
        "1914d2d24b58466b89f110e14c2b3e16": {
          "model_module": "@jupyter-widgets/controls",
          "model_name": "DescriptionStyleModel",
          "state": {
            "_view_name": "StyleView",
            "_model_name": "DescriptionStyleModel",
            "description_width": "",
            "_view_module": "@jupyter-widgets/base",
            "_model_module_version": "1.5.0",
            "_view_count": null,
            "_view_module_version": "1.2.0",
            "_model_module": "@jupyter-widgets/controls"
          }
        },
        "c3eb41ca799646c1a21ef44777dc83b5": {
          "model_module": "@jupyter-widgets/base",
          "model_name": "LayoutModel",
          "state": {
            "_view_name": "LayoutView",
            "grid_template_rows": null,
            "right": null,
            "justify_content": null,
            "_view_module": "@jupyter-widgets/base",
            "overflow": null,
            "_model_module_version": "1.2.0",
            "_view_count": null,
            "flex_flow": null,
            "width": null,
            "min_width": null,
            "border": null,
            "align_items": null,
            "bottom": null,
            "_model_module": "@jupyter-widgets/base",
            "top": null,
            "grid_column": null,
            "overflow_y": null,
            "overflow_x": null,
            "grid_auto_flow": null,
            "grid_area": null,
            "grid_template_columns": null,
            "flex": null,
            "_model_name": "LayoutModel",
            "justify_items": null,
            "grid_row": null,
            "max_height": null,
            "align_content": null,
            "visibility": null,
            "align_self": null,
            "height": null,
            "min_height": null,
            "padding": null,
            "grid_auto_rows": null,
            "grid_gap": null,
            "max_width": null,
            "order": null,
            "_view_module_version": "1.2.0",
            "grid_template_areas": null,
            "object_position": null,
            "object_fit": null,
            "grid_auto_columns": null,
            "margin": null,
            "display": null,
            "left": null
          }
        },
        "b6beb36fa023477fa1b690828a77a47e": {
          "model_module": "@jupyter-widgets/controls",
          "model_name": "HBoxModel",
          "state": {
            "_view_name": "HBoxView",
            "_dom_classes": [],
            "_model_name": "HBoxModel",
            "_view_module": "@jupyter-widgets/controls",
            "_model_module_version": "1.5.0",
            "_view_count": null,
            "_view_module_version": "1.5.0",
            "box_style": "",
            "layout": "IPY_MODEL_a7e8c2e99d154d4d9aa8bf8256347e1b",
            "_model_module": "@jupyter-widgets/controls",
            "children": [
              "IPY_MODEL_cc182bb097ea41e5afb4417f1c4a6e45",
              "IPY_MODEL_c99ed5d783ae4008aeb6d28c6ae51a0d"
            ]
          }
        },
        "a7e8c2e99d154d4d9aa8bf8256347e1b": {
          "model_module": "@jupyter-widgets/base",
          "model_name": "LayoutModel",
          "state": {
            "_view_name": "LayoutView",
            "grid_template_rows": null,
            "right": null,
            "justify_content": null,
            "_view_module": "@jupyter-widgets/base",
            "overflow": null,
            "_model_module_version": "1.2.0",
            "_view_count": null,
            "flex_flow": null,
            "width": null,
            "min_width": null,
            "border": null,
            "align_items": null,
            "bottom": null,
            "_model_module": "@jupyter-widgets/base",
            "top": null,
            "grid_column": null,
            "overflow_y": null,
            "overflow_x": null,
            "grid_auto_flow": null,
            "grid_area": null,
            "grid_template_columns": null,
            "flex": null,
            "_model_name": "LayoutModel",
            "justify_items": null,
            "grid_row": null,
            "max_height": null,
            "align_content": null,
            "visibility": null,
            "align_self": null,
            "height": null,
            "min_height": null,
            "padding": null,
            "grid_auto_rows": null,
            "grid_gap": null,
            "max_width": null,
            "order": null,
            "_view_module_version": "1.2.0",
            "grid_template_areas": null,
            "object_position": null,
            "object_fit": null,
            "grid_auto_columns": null,
            "margin": null,
            "display": null,
            "left": null
          }
        },
        "cc182bb097ea41e5afb4417f1c4a6e45": {
          "model_module": "@jupyter-widgets/controls",
          "model_name": "FloatProgressModel",
          "state": {
            "_view_name": "ProgressView",
            "style": "IPY_MODEL_1254c47987294ce5af914c7d5e6d69de",
            "_dom_classes": [],
            "description": "",
            "_model_name": "FloatProgressModel",
            "bar_style": "success",
            "max": 4542,
            "_view_module": "@jupyter-widgets/controls",
            "_model_module_version": "1.5.0",
            "value": 4542,
            "_view_count": null,
            "_view_module_version": "1.5.0",
            "orientation": "horizontal",
            "min": 0,
            "description_tooltip": null,
            "_model_module": "@jupyter-widgets/controls",
            "layout": "IPY_MODEL_2231b06effb0411792c3c9dce349e3bb"
          }
        },
        "c99ed5d783ae4008aeb6d28c6ae51a0d": {
          "model_module": "@jupyter-widgets/controls",
          "model_name": "HTMLModel",
          "state": {
            "_view_name": "HTMLView",
            "style": "IPY_MODEL_f7e25dd89f69471591ec8b31c525c431",
            "_dom_classes": [],
            "description": "",
            "_model_name": "HTMLModel",
            "placeholder": "​",
            "_view_module": "@jupyter-widgets/controls",
            "_model_module_version": "1.5.0",
            "value": " 5120/? [00:00&lt;00:00, 17084.03it/s]",
            "_view_count": null,
            "_view_module_version": "1.5.0",
            "description_tooltip": null,
            "_model_module": "@jupyter-widgets/controls",
            "layout": "IPY_MODEL_e6ac5cb31d7f49f992a355d3635361f8"
          }
        },
        "1254c47987294ce5af914c7d5e6d69de": {
          "model_module": "@jupyter-widgets/controls",
          "model_name": "ProgressStyleModel",
          "state": {
            "_view_name": "StyleView",
            "_model_name": "ProgressStyleModel",
            "description_width": "initial",
            "_view_module": "@jupyter-widgets/base",
            "_model_module_version": "1.5.0",
            "_view_count": null,
            "_view_module_version": "1.2.0",
            "bar_color": null,
            "_model_module": "@jupyter-widgets/controls"
          }
        },
        "2231b06effb0411792c3c9dce349e3bb": {
          "model_module": "@jupyter-widgets/base",
          "model_name": "LayoutModel",
          "state": {
            "_view_name": "LayoutView",
            "grid_template_rows": null,
            "right": null,
            "justify_content": null,
            "_view_module": "@jupyter-widgets/base",
            "overflow": null,
            "_model_module_version": "1.2.0",
            "_view_count": null,
            "flex_flow": null,
            "width": null,
            "min_width": null,
            "border": null,
            "align_items": null,
            "bottom": null,
            "_model_module": "@jupyter-widgets/base",
            "top": null,
            "grid_column": null,
            "overflow_y": null,
            "overflow_x": null,
            "grid_auto_flow": null,
            "grid_area": null,
            "grid_template_columns": null,
            "flex": null,
            "_model_name": "LayoutModel",
            "justify_items": null,
            "grid_row": null,
            "max_height": null,
            "align_content": null,
            "visibility": null,
            "align_self": null,
            "height": null,
            "min_height": null,
            "padding": null,
            "grid_auto_rows": null,
            "grid_gap": null,
            "max_width": null,
            "order": null,
            "_view_module_version": "1.2.0",
            "grid_template_areas": null,
            "object_position": null,
            "object_fit": null,
            "grid_auto_columns": null,
            "margin": null,
            "display": null,
            "left": null
          }
        },
        "f7e25dd89f69471591ec8b31c525c431": {
          "model_module": "@jupyter-widgets/controls",
          "model_name": "DescriptionStyleModel",
          "state": {
            "_view_name": "StyleView",
            "_model_name": "DescriptionStyleModel",
            "description_width": "",
            "_view_module": "@jupyter-widgets/base",
            "_model_module_version": "1.5.0",
            "_view_count": null,
            "_view_module_version": "1.2.0",
            "_model_module": "@jupyter-widgets/controls"
          }
        },
        "e6ac5cb31d7f49f992a355d3635361f8": {
          "model_module": "@jupyter-widgets/base",
          "model_name": "LayoutModel",
          "state": {
            "_view_name": "LayoutView",
            "grid_template_rows": null,
            "right": null,
            "justify_content": null,
            "_view_module": "@jupyter-widgets/base",
            "overflow": null,
            "_model_module_version": "1.2.0",
            "_view_count": null,
            "flex_flow": null,
            "width": null,
            "min_width": null,
            "border": null,
            "align_items": null,
            "bottom": null,
            "_model_module": "@jupyter-widgets/base",
            "top": null,
            "grid_column": null,
            "overflow_y": null,
            "overflow_x": null,
            "grid_auto_flow": null,
            "grid_area": null,
            "grid_template_columns": null,
            "flex": null,
            "_model_name": "LayoutModel",
            "justify_items": null,
            "grid_row": null,
            "max_height": null,
            "align_content": null,
            "visibility": null,
            "align_self": null,
            "height": null,
            "min_height": null,
            "padding": null,
            "grid_auto_rows": null,
            "grid_gap": null,
            "max_width": null,
            "order": null,
            "_view_module_version": "1.2.0",
            "grid_template_areas": null,
            "object_position": null,
            "object_fit": null,
            "grid_auto_columns": null,
            "margin": null,
            "display": null,
            "left": null
          }
        }
      }
    }
  },
  "cells": [
    {
      "cell_type": "code",
      "metadata": {
        "id": "FsCpQoPb2lAS"
      },
      "source": [
        "%%capture\n",
        "import torch\n",
        "import torch.nn as nn\n",
        "import numpy as np\n",
        "!pip install puLP\n",
        "import pulp\n",
        "import copy\n",
        "import time\n",
        "from sklearn.model_selection import StratifiedShuffleSplit\n",
        "from torchvision.datasets import MNIST\n",
        "import torchvision.transforms as transforms\n",
        "from torch.utils.data import DataLoader, TensorDataset\n",
        "from torch.utils.data.sampler import SubsetRandomSampler\n",
        "from itertools import chain, combinations\n",
        "from tqdm import tqdm\n",
        "from scipy.special import comb\n",
        "\n",
        "device = torch.device(\"cuda:0\" if torch.cuda.is_available() else \"cpu\")\n",
        "\n",
        "SEED = 42\n",
        "\n",
        "np.random.seed(SEED)\n",
        "torch.manual_seed(SEED)\n",
        "def seed_worker(worker_id):\n",
        "    worker_seed = SEED\n",
        "    np.random.seed(worker_seed)\n",
        "    random.seed(worker_seed)"
      ],
      "execution_count": null,
      "outputs": []
    },
    {
      "cell_type": "code",
      "metadata": {
        "id": "aEyDKCXj2mLY"
      },
      "source": [
        "def print_solution(model):\n",
        "    \"\"\"Prints solution of the model nicely!\"\"\"\n",
        "\n",
        "    print(f\"status: {model.status}, {pulp.LpStatus[model.status]}\")\n",
        "    print(f\"objective: {model.objective.value()}\")\n",
        "    for var in model.variables():\n",
        "        print(f\"{var.name}: {round(var.value(),3)}\")\n",
        "\n",
        "def noisify_MNIST(noise_rate, noise_type, x, y, perm=[], **kwargs):\n",
        "    '''Returns a symmetrically noisy dataset\n",
        "    or a an asymmetrically noisy dataset with permutation matrix perm.\n",
        "    '''\n",
        "    if (noise_rate == 0.):\n",
        "        return y, []\n",
        "    if 'seed' in kwargs:\n",
        "        _, noise_idx = next(\n",
        "            iter(StratifiedShuffleSplit(\n",
        "                n_splits=1,\n",
        "                test_size=noise_rate,\n",
        "                random_state=kwargs['seed']).split(x, y)))\n",
        "    else:\n",
        "        _, noise_idx = next(iter(StratifiedShuffleSplit(\n",
        "            n_splits=1, test_size=noise_rate).split(x, y)))\n",
        "    y_noisy = y.copy()\n",
        "    if (noise_type == 'symmetric'):\n",
        "        for i in noise_idx:\n",
        "            t1 = np.arange(10)\n",
        "            t2 = np.delete(t1, y[i])\n",
        "            y_noisy[i] = np.random.choice(t2, 1)\n",
        "    elif (noise_type == 'asymmetric'):\n",
        "        pure_noise = perm[y]\n",
        "        for i in noise_idx:\n",
        "            if (perm[y[i]] == y[i]):\n",
        "                noise_idx = np.delete(noise_idx, np.where(noise_idx == i))\n",
        "            else:\n",
        "                y_noisy[i] = pure_noise[i]\n",
        "\n",
        "    return y_noisy, noise_idx\n",
        "\n",
        "def mnist_iid(dataset, num_users, SEED):\n",
        "    \"\"\"\n",
        "    Sample I.I.D. client data from MNIST dataset\n",
        "    :param dataset:\n",
        "    :param num_users:\n",
        "    :return: dict of image index\n",
        "    \"\"\"\n",
        "    np.random.seed(SEED)\n",
        "    num_items = int(len(dataset)/num_users)\n",
        "    dict_users, all_idxs = {}, [i for i in range(len(dataset))]\n",
        "    for i in range(num_users):\n",
        "        dict_users[i] = set(np.random.choice(all_idxs, num_items,\n",
        "                                             replace=False))\n",
        "        all_idxs = list(set(all_idxs) - dict_users[i])\n",
        "\n",
        "    return dict_users\n",
        "\n",
        "class MLP(nn.Module):\n",
        "    def __init__(self, dim_in, dim_hidden, dim_out, SEED):\n",
        "        torch.manual_seed(SEED)\n",
        "        super(MLP, self).__init__()\n",
        "        self.layer_input = nn.Linear(dim_in, dim_hidden)\n",
        "        self.relu = nn.ReLU()\n",
        "        self.dropout = nn.Dropout()\n",
        "        self.layer_hidden = nn.Linear(dim_hidden, dim_out)\n",
        "        self.softmax = nn.LogSoftmax(dim=1)\n",
        "\n",
        "    def forward(self, x):\n",
        "        x = x.view(-1, 784)\n",
        "        x = self.layer_input(x)\n",
        "        x = self.dropout(x)\n",
        "        x = self.relu(x)\n",
        "        x = self.layer_hidden(x)\n",
        "\n",
        "        return self.softmax(x)\n",
        "\n",
        "def average_weights(w, fraction):  # this can also be used to average gradients\n",
        "    \"\"\"\n",
        "    :param w: list of weights generated from the users\n",
        "    :param fraction: list of fraction of data from the users\n",
        "    :Returns the weighted average of the weights.\n",
        "    \"\"\"\n",
        "    w_avg = copy.deepcopy(w[0]) #copy the weights from the first user in the list \n",
        "    for key in w_avg.keys():\n",
        "        w_avg[key] *= (fraction[0]/sum(fraction))\n",
        "        for i in range(1, len(w)):\n",
        "            w_avg[key] += w[i][key] * (fraction[i]/sum(fraction))\n",
        "\n",
        "    return w_avg\n",
        "\n",
        "def calculate_gradients(new_weights, old_weights):\n",
        "    \"\"\"\n",
        "    :param new_weights: list of weights generated from the users\n",
        "    :param old_weights: old weights of a model, probably before training\n",
        "    :Returns the list of gradients.\n",
        "    \"\"\"\n",
        "\n",
        "    gradients = []\n",
        "    for i in range(len(new_weights)):\n",
        "        gradients.append(copy.deepcopy(new_weights[i]))\n",
        "        for key in gradients[i].keys():\n",
        "            gradients[i][key] -= old_weights[key]\n",
        "\n",
        "    return gradients\n",
        "\n",
        "def update_weights_from_gradients(gradients, old_weights):\n",
        "    \"\"\"\n",
        "    :param gradients: gradients\n",
        "    :param old_weights: old weights of a model, probably before training\n",
        "    :Returns the updated weights calculated by: old_weights+gradients.\n",
        "    \"\"\"\n",
        "    updated_weights = copy.deepcopy(old_weights)\n",
        "    for key in updated_weights.keys():\n",
        "        updated_weights[key] = old_weights[key] + gradients[key]\n",
        "    return updated_weights\n",
        "    \n",
        "\n",
        "\n",
        "def powersettool(iterable):\n",
        "    \"powerset([1,2,3]) --> () (1,) (2,) (3,) (1,2) (1,3) (2,3) (1,2,3)\"\n",
        "    s = list(iterable)\n",
        "    return chain.from_iterable(combinations(s, r) for r in range(len(s)+1))\n",
        "\n",
        "def least_core(char_function_dict, N):\n",
        "    \"\"\"Solves the least core LP problem.\n",
        "\n",
        "    Args:\n",
        "        N: number of participants.\n",
        "        char_function_dict: dictionary with participants as keys and \n",
        "        corresponding characteristic function value as values\n",
        "    \"\"\"\n",
        "    model = pulp.LpProblem('least_core', pulp.LpMinimize)\n",
        "    x = {i: pulp.LpVariable(name=f'x({i})', lowBound=0) for i in range(1, N+1)}\n",
        "    e = pulp.LpVariable(name='e')\n",
        "    model += e # decision variable\n",
        "    grand_coalition = tuple(i for i in range(1, N+1))\n",
        "    model += pulp.lpSum(x) == char_function_dict[grand_coalition]\n",
        "    for key, value in char_function_dict.items():\n",
        "        model += pulp.lpSum(x[idx] for idx in key) + e >= value\n",
        "    model.solve()\n",
        "    print_solution(model)\n",
        "\n",
        "    return model\n",
        "\n",
        "def shapley(utility, N):\n",
        "\n",
        "    shapley_dict = {}\n",
        "    for i in range(1, N+1):\n",
        "        shapley_dict[i] = 0\n",
        "    for key in utility:\n",
        "        if key != ():\n",
        "            for contributor in key:\n",
        "                # print('contributor:', contributor, key) # print check\n",
        "                marginal_contribution = utility[key] - utility[tuple(i for i in key if i!=contributor)]\n",
        "                # print('marginal:', marginal_contribution) # print check\n",
        "                shapley_dict[contributor] += marginal_contribution /((comb(N-1,len(key)-1))*N)\n",
        "\n",
        "    return shapley_dict"
      ],
      "execution_count": null,
      "outputs": []
    },
    {
      "cell_type": "code",
      "metadata": {
        "colab": {
          "base_uri": "https://localhost:8080/",
          "height": 658,
          "referenced_widgets": [
            "c7d7178b5b83433fbe83e59032bed39c",
            "0912880f5fa7410da2718ca68cf79f82",
            "5359ad7d4d654e909e58d43181ce8ac3",
            "af1a6444921c4062b7f5dffb5059963a",
            "7804c87db7434cc38de0a07230a95184",
            "b82fa1cbbc404e729bc61056c637d9cb",
            "d6e97e41d4e7438d9c9ed14e0ffab117",
            "8a5e08cf6423467693302be50d8b12a2",
            "ebd1499301d948f0b46f8ab16d072845",
            "9c460baac9cd4a54af197fdd7b3eb2d4",
            "36e381159cd34b20962610df5ddba71f",
            "b53ab705d85947a6ae1e61a38960905c",
            "cd877051dda644ad83c66f556b0cec15",
            "22b95d72317e46869a3bc22b327f7b19",
            "9d115452706240c39b15929cd2a99639",
            "7da37c05e9454c6f99344752e4838737",
            "de5fc1b19bf542bcbbdd1786e1f31c37",
            "8ca862e6c8444869995218d37eb0cb36",
            "e8259ec8267741fd802c7fc8d5137e5b",
            "cc6543b061ea4dc4bf7c7c87d84912d2",
            "be33258f18da45a1a84c7c7744c74b9e",
            "b6fa25c748694268a318ccc19564db42",
            "1914d2d24b58466b89f110e14c2b3e16",
            "c3eb41ca799646c1a21ef44777dc83b5",
            "b6beb36fa023477fa1b690828a77a47e",
            "a7e8c2e99d154d4d9aa8bf8256347e1b",
            "cc182bb097ea41e5afb4417f1c4a6e45",
            "c99ed5d783ae4008aeb6d28c6ae51a0d",
            "1254c47987294ce5af914c7d5e6d69de",
            "2231b06effb0411792c3c9dce349e3bb",
            "f7e25dd89f69471591ec8b31c525c431",
            "e6ac5cb31d7f49f992a355d3635361f8"
          ]
        },
        "id": "tEKlYGu72m8a",
        "outputId": "6801d01f-06d9-4381-b03a-e75a40d1d5e4"
      },
      "source": [
        "trainset = MNIST(root='./data', train=True, download=True)\n",
        "test_dataset = MNIST(root='./data', train=False, download=True, transform=transforms.ToTensor())\n",
        "x_train = trainset.data.numpy().astype(\"float32\") / 255.\n",
        "y_train = trainset.targets.numpy()"
      ],
      "execution_count": null,
      "outputs": [
        {
          "output_type": "stream",
          "text": [
            "Downloading http://yann.lecun.com/exdb/mnist/train-images-idx3-ubyte.gz\n",
            "Downloading http://yann.lecun.com/exdb/mnist/train-images-idx3-ubyte.gz to ./data/MNIST/raw/train-images-idx3-ubyte.gz\n"
          ],
          "name": "stdout"
        },
        {
          "output_type": "display_data",
          "data": {
            "application/vnd.jupyter.widget-view+json": {
              "model_id": "c7d7178b5b83433fbe83e59032bed39c",
              "version_minor": 0,
              "version_major": 2
            },
            "text/plain": [
              "HBox(children=(FloatProgress(value=0.0, max=9912422.0), HTML(value='')))"
            ]
          },
          "metadata": {
            "tags": []
          }
        },
        {
          "output_type": "stream",
          "text": [
            "\n",
            "Extracting ./data/MNIST/raw/train-images-idx3-ubyte.gz to ./data/MNIST/raw\n",
            "\n",
            "Downloading http://yann.lecun.com/exdb/mnist/train-labels-idx1-ubyte.gz\n",
            "Downloading http://yann.lecun.com/exdb/mnist/train-labels-idx1-ubyte.gz to ./data/MNIST/raw/train-labels-idx1-ubyte.gz\n"
          ],
          "name": "stdout"
        },
        {
          "output_type": "display_data",
          "data": {
            "application/vnd.jupyter.widget-view+json": {
              "model_id": "ebd1499301d948f0b46f8ab16d072845",
              "version_minor": 0,
              "version_major": 2
            },
            "text/plain": [
              "HBox(children=(FloatProgress(value=0.0, max=28881.0), HTML(value='')))"
            ]
          },
          "metadata": {
            "tags": []
          }
        },
        {
          "output_type": "stream",
          "text": [
            "\n",
            "Extracting ./data/MNIST/raw/train-labels-idx1-ubyte.gz to ./data/MNIST/raw\n",
            "\n",
            "Downloading http://yann.lecun.com/exdb/mnist/t10k-images-idx3-ubyte.gz\n",
            "Downloading http://yann.lecun.com/exdb/mnist/t10k-images-idx3-ubyte.gz to ./data/MNIST/raw/t10k-images-idx3-ubyte.gz\n",
            "Failed to download (trying next):\n",
            "HTTP Error 503: Service Unavailable\n",
            "\n",
            "Downloading https://ossci-datasets.s3.amazonaws.com/mnist/t10k-images-idx3-ubyte.gz\n",
            "Downloading https://ossci-datasets.s3.amazonaws.com/mnist/t10k-images-idx3-ubyte.gz to ./data/MNIST/raw/t10k-images-idx3-ubyte.gz\n"
          ],
          "name": "stdout"
        },
        {
          "output_type": "display_data",
          "data": {
            "application/vnd.jupyter.widget-view+json": {
              "model_id": "de5fc1b19bf542bcbbdd1786e1f31c37",
              "version_minor": 0,
              "version_major": 2
            },
            "text/plain": [
              "HBox(children=(FloatProgress(value=0.0, max=1648877.0), HTML(value='')))"
            ]
          },
          "metadata": {
            "tags": []
          }
        },
        {
          "output_type": "stream",
          "text": [
            "\n",
            "Extracting ./data/MNIST/raw/t10k-images-idx3-ubyte.gz to ./data/MNIST/raw\n",
            "\n",
            "Downloading http://yann.lecun.com/exdb/mnist/t10k-labels-idx1-ubyte.gz\n",
            "Downloading http://yann.lecun.com/exdb/mnist/t10k-labels-idx1-ubyte.gz to ./data/MNIST/raw/t10k-labels-idx1-ubyte.gz\n"
          ],
          "name": "stdout"
        },
        {
          "output_type": "display_data",
          "data": {
            "application/vnd.jupyter.widget-view+json": {
              "model_id": "b6beb36fa023477fa1b690828a77a47e",
              "version_minor": 0,
              "version_major": 2
            },
            "text/plain": [
              "HBox(children=(FloatProgress(value=0.0, max=4542.0), HTML(value='')))"
            ]
          },
          "metadata": {
            "tags": []
          }
        },
        {
          "output_type": "stream",
          "text": [
            "\n",
            "Extracting ./data/MNIST/raw/t10k-labels-idx1-ubyte.gz to ./data/MNIST/raw\n",
            "\n",
            "Processing...\n",
            "Done!\n"
          ],
          "name": "stdout"
        },
        {
          "output_type": "stream",
          "text": [
            "/usr/local/lib/python3.7/dist-packages/torchvision/datasets/mnist.py:502: UserWarning: The given NumPy array is not writeable, and PyTorch does not support non-writeable tensors. This means you can write to the underlying (supposedly non-writeable) NumPy array using the tensor. You may want to copy the array to protect its data or make it writeable before converting it to a tensor. This type of warning will be suppressed for the rest of this program. (Triggered internally at  /pytorch/torch/csrc/utils/tensor_numpy.cpp:143.)\n",
            "  return torch.from_numpy(parsed.astype(m[2], copy=False)).view(*s)\n"
          ],
          "name": "stderr"
        }
      ]
    },
    {
      "cell_type": "code",
      "metadata": {
        "id": "RKIVlVT22nnw"
      },
      "source": [
        "class LocalUpdate(object):\n",
        "\n",
        "    def __init__(self, lr, local_ep, trainloader):\n",
        "        self.lr = lr\n",
        "        self.local_ep = local_ep\n",
        "        self.trainloader = trainloader\n",
        "\n",
        "    def update_weights(self, model, global_round):\n",
        "\n",
        "        model.train()\n",
        "        epoch_loss = []\n",
        "        optimizer = torch.optim.SGD(model.parameters(), lr=self.lr, momentum=0.5)\n",
        "        criterion = nn.NLLLoss().to(device)\n",
        "        for iter in range(self.local_ep):\n",
        "            batch_loss = []\n",
        "            for batch_idx, (images, labels) in enumerate(self.trainloader):\n",
        "                images, labels = images.to(device), labels.to(device)\n",
        "                model.zero_grad()   \n",
        "                log_probs = model(images)\n",
        "                loss = criterion(log_probs, labels)\n",
        "                loss.backward()\n",
        "                optimizer.step()\n",
        "                batch_loss.append(loss.item())\n",
        "            epoch_loss.append(sum(batch_loss)/len(batch_loss))\n",
        "\n",
        "        return model.state_dict(), sum(epoch_loss) / len(epoch_loss)\n",
        "\n",
        "def test_inference(model, test_dataset):\n",
        "\n",
        "    model.eval()\n",
        "    loss, total, correct = 0.0, 0.0, 0.0\n",
        "    criterion = nn.NLLLoss().to(device)\n",
        "    testloader = DataLoader(test_dataset, batch_size=1000,\n",
        "                            shuffle=False)\n",
        "\n",
        "    for _, (images, labels) in enumerate(testloader):\n",
        "        images, labels = images.to(device), labels.to(device)\n",
        "        outputs = model(images)\n",
        "        batch_loss = criterion(outputs, labels)\n",
        "        loss += batch_loss.item()\n",
        "        _, pred_labels = torch.max(outputs, 1)\n",
        "        pred_labels = pred_labels.view(-1)\n",
        "        correct += torch.sum(torch.eq(pred_labels, labels)).item()\n",
        "        total += len(labels)\n",
        "    accuracy = correct / total\n",
        "\n",
        "    return accuracy, loss"
      ],
      "execution_count": null,
      "outputs": []
    },
    {
      "cell_type": "code",
      "metadata": {
        "id": "cjj9mvuZje9e"
      },
      "source": [
        "N = 2\n",
        "local_bs = 64\n",
        "lr = 0.01\n",
        "local_ep = 5\n",
        "EPOCHS = 10\n",
        "\n",
        "np.random.seed(SEED)\n",
        "torch.manual_seed(SEED)\n",
        "\n",
        "noise_rates = np.linspace(0, 1, N, endpoint=False)\n",
        "split_dset = mnist_iid(trainset, N, SEED)\n",
        "user_groups = {i: 0 for i in range(1, N+1)}\n",
        "noise_idx = {i: 0 for i in range(1, N+1)}\n",
        "train_datasets = {i: 0 for i in range(1, N+1)}\n",
        "for n in range(N):\n",
        "    user_groups[n+1] = np.array(list(split_dset[n]), dtype=np.int)\n",
        "    user_train_x, user_train_y = x_train[user_groups[n+1]], y_train[user_groups[n+1]]\n",
        "    user_noisy_y, noise_idx[n+1] = noisify_MNIST(noise_rates[n], 'symmetric', user_train_x, user_train_y, seed=SEED)\n",
        "    train_datasets[n+1] = TensorDataset(torch.Tensor(user_train_x),\n",
        "                                        torch.as_tensor(user_noisy_y, dtype=torch.long))\n",
        "\n",
        "global_model = MLP(dim_in=784, dim_hidden=64, dim_out=10, SEED=SEED)    \n",
        "global_model.to(device)\n",
        "global_model.train()\n",
        "global_weights = global_model.state_dict()\n",
        "powerset = list(powersettool(range(1, N+1)))\n",
        "submodel_dict = {}  \n",
        "submodel_dict[()] = copy.deepcopy(global_model)\n",
        "accuracy_dict = {}"
      ],
      "execution_count": null,
      "outputs": []
    },
    {
      "cell_type": "code",
      "metadata": {
        "colab": {
          "base_uri": "https://localhost:8080/"
        },
        "id": "mLc8p-ZFhGy2",
        "outputId": "25d133ba-6655-43a4-8fb6-f9fbaf1a1cac"
      },
      "source": [
        "start_time = time.time()\n",
        "\n",
        "np.random.seed(SEED)\n",
        "torch.manual_seed(SEED)\n",
        "\n",
        "for subset in range(1, N+1): # only form the submodels based on individual datasets\n",
        "    submodel_dict[(subset,)] = copy.deepcopy(global_model)\n",
        "    submodel_dict[(subset,)].to(device)\n",
        "    submodel_dict[(subset,)].train() \n",
        " \n",
        "train_loss, train_accuracy = [], []\n",
        "val_acc_list, net_list = [], []\n",
        "print_every = 2\n",
        "\n",
        "idxs_users = np.arange(1, N+1)\n",
        "total_data = sum(len(user_groups[i]) for i in range(1, N+1))\n",
        "fraction = [len(user_groups[i])/total_data for i in range(1, N+1)]\n",
        "\n",
        "for epoch in tqdm(range(EPOCHS)):\n",
        "    local_weights, local_losses = [], []\n",
        "    print(f'\\n | Global Training Round : {epoch+1} |\\n')\n",
        "    global_model.train()\n",
        "    for idx in idxs_users:\n",
        "        trainloader = DataLoader(train_datasets[idx], batch_size=local_bs, shuffle=True, worker_init_fn=seed_worker)\n",
        "        local_model = LocalUpdate(lr, local_ep, trainloader)\n",
        "        w, loss = local_model.update_weights(model=copy.deepcopy(global_model), global_round=epoch)\n",
        "        local_weights.append(copy.deepcopy(w))\n",
        "        local_losses.append(copy.deepcopy(loss))\n",
        "    global_weights = average_weights(local_weights, fraction) \n",
        "    loss_avg = sum(local_losses) / len(local_losses)\n",
        "    train_loss.append(loss_avg)\n",
        "\n",
        "    gradients = calculate_gradients(local_weights, global_model.state_dict()) \n",
        "    for i in idxs_users: \n",
        "        subset_weights = update_weights_from_gradients(gradients[i-1], submodel_dict[(i,)].state_dict()) \n",
        "        submodel_dict[(i,)].load_state_dict(subset_weights)\n",
        "\n",
        "    global_model.load_state_dict(global_weights)\n",
        "    global_model.eval()\n",
        "\n",
        "    if (epoch+1) % print_every == 0:\n",
        "        print(f' \\nAvg Training Stats after {epoch+1} global rounds:')\n",
        "        print(f'Training Loss : {np.mean(np.array(train_loss))}')\n",
        "        # print('Train Accuracy: {:.2f}% \\n'.format(100*train_accuracy[-1]))\n",
        "\n",
        "test_acc, test_loss = test_inference(global_model, test_dataset)\n",
        "print(f' \\n Results after {EPOCHS} global rounds of training:')\n",
        "print(\"|---- Test Accuracy: {:.2f}%\".format(100*test_acc))\n",
        "\n",
        "accuracy_dict[powerset[-1]] = test_acc\n",
        "\n",
        "# ADJUSTED-OR APPROX\n",
        "for subset in powerset[:-1]: \n",
        "    if len(subset) > 1:\n",
        "        # calculate the average of the subset of weights from list of all the weights\n",
        "        subset_weights = average_weights([submodel_dict[(i,)].state_dict() for i in subset], [fraction[i-1] for i in subset]) \n",
        "        submodel = copy.deepcopy(submodel_dict[()])\n",
        "        submodel.load_state_dict(subset_weights)\n",
        "        \n",
        "        test_acc, test_loss = test_inference(submodel, test_dataset)\n",
        "        print(f' \\n Results after {EPOCHS} global rounds of training (for OR): ')\n",
        "        print(\"|---- Test Accuracy for {}: {:.2f}%\".format(subset, 100*test_acc))\n",
        "        accuracy_dict[subset] = test_acc\n",
        "    else: \n",
        "        test_acc, test_loss = test_inference(submodel_dict[subset], test_dataset)\n",
        "        accuracy_dict[subset] = test_acc\n",
        "\n",
        "trainTime = time.time() - start_time\n",
        "start_time = time.time()\n",
        "shapley_dict = shapley(accuracy_dict, N)\n",
        "shapTime = time.time() - start_time\n",
        "start_time = time.time()\n",
        "lc_dict = least_core(accuracy_dict, N)\n",
        "LCTime = time.time() - start_time\n",
        "totalShapTime = trainTime + shapTime\n",
        "totalLCTime = trainTime + LCTime\n",
        "print('\\n Total Time Shapley: {0:0.4f}'.format(totalShapTime))\n",
        "print('\\n Total Time LC: {0:0.4f}'.format(totalLCTime))"
      ],
      "execution_count": null,
      "outputs": [
        {
          "output_type": "stream",
          "text": [
            "\r  0%|          | 0/10 [00:00<?, ?it/s]"
          ],
          "name": "stderr"
        },
        {
          "output_type": "stream",
          "text": [
            "\n",
            " | Global Training Round : 1 |\n",
            "\n"
          ],
          "name": "stdout"
        },
        {
          "output_type": "stream",
          "text": [
            "\r 10%|█         | 1/10 [00:06<00:58,  6.51s/it]"
          ],
          "name": "stderr"
        },
        {
          "output_type": "stream",
          "text": [
            "\n",
            " | Global Training Round : 2 |\n",
            "\n"
          ],
          "name": "stdout"
        },
        {
          "output_type": "stream",
          "text": [
            "\r 20%|██        | 2/10 [00:12<00:51,  6.48s/it]"
          ],
          "name": "stderr"
        },
        {
          "output_type": "stream",
          "text": [
            " \n",
            "Avg Training Stats after 2 global rounds:\n",
            "Training Loss : 1.3275428592332643\n",
            "\n",
            " | Global Training Round : 3 |\n",
            "\n"
          ],
          "name": "stdout"
        },
        {
          "output_type": "stream",
          "text": [
            "\r 30%|███       | 3/10 [00:19<00:45,  6.44s/it]"
          ],
          "name": "stderr"
        },
        {
          "output_type": "stream",
          "text": [
            "\n",
            " | Global Training Round : 4 |\n",
            "\n"
          ],
          "name": "stdout"
        },
        {
          "output_type": "stream",
          "text": [
            "\r 40%|████      | 4/10 [00:25<00:38,  6.41s/it]"
          ],
          "name": "stderr"
        },
        {
          "output_type": "stream",
          "text": [
            " \n",
            "Avg Training Stats after 4 global rounds:\n",
            "Training Loss : 1.2604115103631575\n",
            "\n",
            " | Global Training Round : 5 |\n",
            "\n"
          ],
          "name": "stdout"
        },
        {
          "output_type": "stream",
          "text": [
            "\r 50%|█████     | 5/10 [00:31<00:31,  6.39s/it]"
          ],
          "name": "stderr"
        },
        {
          "output_type": "stream",
          "text": [
            "\n",
            " | Global Training Round : 6 |\n",
            "\n"
          ],
          "name": "stdout"
        },
        {
          "output_type": "stream",
          "text": [
            "\r 60%|██████    | 6/10 [00:38<00:25,  6.37s/it]"
          ],
          "name": "stderr"
        },
        {
          "output_type": "stream",
          "text": [
            " \n",
            "Avg Training Stats after 6 global rounds:\n",
            "Training Loss : 1.228758390146945\n",
            "\n",
            " | Global Training Round : 7 |\n",
            "\n"
          ],
          "name": "stdout"
        },
        {
          "output_type": "stream",
          "text": [
            "\r 70%|███████   | 7/10 [00:44<00:19,  6.38s/it]"
          ],
          "name": "stderr"
        },
        {
          "output_type": "stream",
          "text": [
            "\n",
            " | Global Training Round : 8 |\n",
            "\n"
          ],
          "name": "stdout"
        },
        {
          "output_type": "stream",
          "text": [
            "\r 80%|████████  | 8/10 [00:50<00:12,  6.36s/it]"
          ],
          "name": "stderr"
        },
        {
          "output_type": "stream",
          "text": [
            " \n",
            "Avg Training Stats after 8 global rounds:\n",
            "Training Loss : 1.2085827894028283\n",
            "\n",
            " | Global Training Round : 9 |\n",
            "\n"
          ],
          "name": "stdout"
        },
        {
          "output_type": "stream",
          "text": [
            "\r 90%|█████████ | 9/10 [00:57<00:06,  6.36s/it]"
          ],
          "name": "stderr"
        },
        {
          "output_type": "stream",
          "text": [
            "\n",
            " | Global Training Round : 10 |\n",
            "\n"
          ],
          "name": "stdout"
        },
        {
          "output_type": "stream",
          "text": [
            "100%|██████████| 10/10 [01:03<00:00,  6.37s/it]"
          ],
          "name": "stderr"
        },
        {
          "output_type": "stream",
          "text": [
            " \n",
            "Avg Training Stats after 10 global rounds:\n",
            "Training Loss : 1.19414463912532\n"
          ],
          "name": "stdout"
        },
        {
          "output_type": "stream",
          "text": [
            "\n"
          ],
          "name": "stderr"
        },
        {
          "output_type": "stream",
          "text": [
            " \n",
            " Results after 10 global rounds of training:\n",
            "|---- Test Accuracy: 94.82%\n",
            "status: 1, Optimal\n",
            "objective: 0.1088\n",
            "e: 0.109\n",
            "x(1): 0.783\n",
            "x(2): 0.165\n",
            "\n",
            " Total Time Shapley: 65.9245\n",
            "\n",
            " Total Time LC: 65.9698\n"
          ],
          "name": "stdout"
        }
      ]
    },
    {
      "cell_type": "code",
      "metadata": {
        "colab": {
          "base_uri": "https://localhost:8080/"
        },
        "id": "3OLtuJ8_t7Jw",
        "outputId": "30bb074f-0645-4abd-fb45-7d48b112a9c5"
      },
      "source": [
        "shaps, cores = [], []\n",
        "for i in shapley_dict.values():\n",
        "    shaps.append(round(i, 3))\n",
        "\n",
        "shaps"
      ],
      "execution_count": null,
      "outputs": [
        {
          "output_type": "execute_result",
          "data": {
            "text/plain": [
              "[0.801, 0.039]"
            ]
          },
          "metadata": {
            "tags": []
          },
          "execution_count": 7
        }
      ]
    },
    {
      "cell_type": "code",
      "metadata": {
        "colab": {
          "base_uri": "https://localhost:8080/"
        },
        "id": "06hF43nsxdTx",
        "outputId": "b08d89e6-4347-48d9-87ed-8a97fced5bd8"
      },
      "source": [
        "accuracy_dict"
      ],
      "execution_count": null,
      "outputs": [
        {
          "output_type": "execute_result",
          "data": {
            "text/plain": [
              "{(): 0.1088, (1,): 0.8923, (1, 2): 0.9482, (2,): 0.1304}"
            ]
          },
          "metadata": {
            "tags": []
          },
          "execution_count": 8
        }
      ]
    }
  ]
}